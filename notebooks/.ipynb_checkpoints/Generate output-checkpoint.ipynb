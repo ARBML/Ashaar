{
 "cells": [
  {
   "cell_type": "code",
   "execution_count": null,
   "id": "e8247a12",
   "metadata": {
    "scrolled": true
   },
   "outputs": [],
   "source": [
    "from datasets import load_dataset\n",
    "ashaar = load_dataset('arbml/ashaar_datasetv2')"
   ]
  },
  {
   "cell_type": "code",
   "execution_count": null,
   "id": "6b7a7c70-08a2-4d56-acf8-53cdebf5e80a",
   "metadata": {},
   "outputs": [],
   "source": [
    "ashaar['train'][0]['text']"
   ]
  },
  {
   "cell_type": "code",
   "execution_count": 4,
   "id": "27b5b276",
   "metadata": {},
   "outputs": [
    {
     "data": {
      "text/plain": [
       "DatasetDict({\n",
       "    train: Dataset({\n",
       "        features: ['poem title', 'poem meter', 'poem verses', 'poem theme', 'poem url', 'poet name', 'poet description', 'poet url', 'poet era', 'poet location', 'poem description', 'poem language type', 'text'],\n",
       "        num_rows: 212499\n",
       "    })\n",
       "})"
      ]
     },
     "execution_count": 4,
     "metadata": {},
     "output_type": "execute_result"
    }
   ],
   "source": [
    "ashaar"
   ]
  },
  {
   "cell_type": "code",
   "execution_count": 5,
   "id": "b152b835-55fa-43df-8880-089de8faf12a",
   "metadata": {},
   "outputs": [],
   "source": [
    "import json \n",
    "theme_to_token = json.load(open(\"../extra/theme_tokens.json\", \"r\"))\n",
    "token_to_theme = {t:m for m,t in theme_to_token.items()}\n",
    "\n",
    "meter_to_token = json.load(open(\"../extra/meter_tokens.json\", \"r\"))\n",
    "token_to_meter = {t:m for m,t in meter_to_token.items()}"
   ]
  },
  {
   "cell_type": "code",
   "execution_count": 7,
   "id": "276a3082",
   "metadata": {},
   "outputs": [
    {
     "name": "stdout",
     "output_type": "stream",
     "text": [
      "{'قصيدة قصيره': '<|theme_0|>', 'قصيدة مدح': '<|theme_1|>', 'قصيدة وطنيه': '<|theme_2|>', 'قصيدة رومنسيه': '<|theme_3|>', 'قصيدة هجاء': '<|theme_4|>', 'قصيدة اعتذار': '<|theme_5|>', 'قصيدة سياسية': '<|theme_6|>', 'قصيدة فراق': '<|theme_7|>', 'قصيدة غزل': '<|theme_8|>', 'قصيدة ذم': '<|theme_9|>', 'قصيدة رثاء': '<|theme_10|>', 'null': '<|theme_11|>', 'قصيدة شوق': '<|theme_12|>', 'قصيدة المعلقات': '<|theme_13|>', 'قصيدة الاناشيد': '<|theme_14|>', 'قصيدة حزينه': '<|theme_15|>', 'قصيدة عتاب': '<|theme_16|>', 'قصيدة عامه': '<|theme_17|>', 'قصيدة دينية': '<|theme_18|>'}\n"
     ]
    }
   ],
   "source": [
    "print(theme_to_token)"
   ]
  },
  {
   "cell_type": "code",
   "execution_count": 9,
   "id": "d321e5b0",
   "metadata": {},
   "outputs": [],
   "source": [
    "from transformers import AutoTokenizer, AutoModelForCausalLM\n",
    "\n",
    "gpt_tokenizer = AutoTokenizer.from_pretrained('arbml/ashaar_tokenizerv2')\n",
    "encoded_input = gpt_tokenizer(['<|psep|>'], return_tensors='pt')\n",
    "model = AutoModelForCausalLM.from_pretrained('checkpoint-450000')"
   ]
  },
  {
   "cell_type": "code",
   "execution_count": 10,
   "id": "462f0541-c72b-42f8-a228-072865115bce",
   "metadata": {},
   "outputs": [
    {
     "name": "stderr",
     "output_type": "stream",
     "text": [
      "Setting `pad_token_id` to `eos_token_id`:50256 for open-end generation.\n"
     ]
    },
    {
     "name": "stdout",
     "output_type": "stream",
     "text": [
      "<|meter_14|> ك <|theme_18|>\n",
      "{'input_ids': tensor([[ 21, 105,  53,  42]]), 'attention_mask': tensor([[1, 1, 1, 1]])}\n"
     ]
    }
   ],
   "source": [
    "theme = \"قصيدة دينية\"\n",
    "meter = \"الكامل\"\n",
    "qafiyah = \"ك\"\n",
    "prompt = f\"{meter_to_token[meter]} {qafiyah} {theme_to_token[theme]}\"\n",
    "print(prompt)\n",
    "encoded_input = gpt_tokenizer(prompt, return_tensors='pt')\n",
    "output = model.generate(**encoded_input, max_length = 512, top_p = 3, do_sample=True)\n",
    "print(encoded_input)"
   ]
  },
  {
   "cell_type": "code",
   "execution_count": 11,
   "id": "a71f79b4-9d07-4e76-8fc4-86bdc7a8d268",
   "metadata": {},
   "outputs": [
    {
     "name": "stdout",
     "output_type": "stream",
     "text": [
      "قصيدة دينية من بحر الكامل مع قافية بحر (ك)\n",
      "\n",
      "الحَدُّ أَضْحَكَ ذْ بَكَيتُ لِذاكا *** وَالحَدُّ أَعْطاني بصَبْرِ رِضاكا \n",
      "\n",
      "سَلَبَ الأَقارِبَ لا يُرَوْنَ عَبادَتي *** وَأَخو التَنَقُّلِ هَمُّهُ بِسِواكا \n",
      "\n",
      "لا غَرْوَ لُحْ لّا وَعَنْ أَنْيابِها *** فَعَسى أَطالَ مِنَ الزّمانِ جَلاكَا \n",
      "\n",
      "وَاللهِ ما أَبْقَيْتَ عَيْنِيَ مَدْمَعاً *** ِلّا غَدا قَلْبي بِهِ يَرْعاكا \n",
      "\n",
      "فَاليأسُ عِنْدي لا يَنامُ تَرَفُّقاً *** مُتَلَبِّساً ما خانَني ِلّاكا \n",
      "\n",
      "وَالدّهْرُ في يَومِ الشّقاقِ مُنَكَّسٌ *** ِنْ يَنْتَفِعْ بِمَضائِهِ لَوْ زاكا \n",
      "\n",
      "وَالسّيفُ ما مَرْقىً أَلَمّ مُصِرِّحاً *** ِلّا تَلاهُ البَر\n"
     ]
    }
   ],
   "source": [
    "result = \"\"\n",
    "prev_token = \"\"\n",
    "\n",
    "for i, beam in enumerate(output[:, len(encoded_input.input_ids[0]):]):\n",
    "    for token in beam:\n",
    "        decoded = gpt_tokenizer.decode(token)\n",
    "        if 'meter' in decoded or 'theme' in decoded:\n",
    "            break\n",
    "        if decoded == \"<|vsep|>\":\n",
    "            result += \"*** \"\n",
    "        elif decoded in [\"<|bsep|>\", \"</|bsep|>\"]:\n",
    "            result += \"\\n\"\n",
    "        elif decoded in ['<|psep|>', '</|psep|>']:\n",
    "            pass\n",
    "        else:\n",
    "            result += decoded\n",
    "        prev_token = decoded\n",
    "    else:\n",
    "        break\n",
    "print(theme+\" \"+ f\"من بحر {meter} مع قافية بحر ({qafiyah})\" + \"\\n\" +result)"
   ]
  },
  {
   "cell_type": "code",
   "execution_count": 14,
   "id": "298bbc6b",
   "metadata": {},
   "outputs": [
    {
     "data": {
      "application/vnd.jupyter.widget-view+json": {
       "model_id": "bfe6d92a398c4613966c8c8c5ae65650",
       "version_major": 2,
       "version_minor": 0
      },
      "text/plain": [
       "optimizer.pt:   0%|          | 0.00/574M [00:00<?, ?B/s]"
      ]
     },
     "metadata": {},
     "output_type": "display_data"
    },
    {
     "data": {
      "application/vnd.jupyter.widget-view+json": {
       "model_id": "4478d1018be54991b222972168816971",
       "version_major": 2,
       "version_minor": 0
      },
      "text/plain": [
       "pytorch_model.bin:   0%|          | 0.00/287M [00:00<?, ?B/s]"
      ]
     },
     "metadata": {},
     "output_type": "display_data"
    },
    {
     "data": {
      "application/vnd.jupyter.widget-view+json": {
       "model_id": "1546c882aaaa44bfa04e836ad20bb565",
       "version_major": 2,
       "version_minor": 0
      },
      "text/plain": [
       "scheduler.pt:   0%|          | 0.00/627 [00:00<?, ?B/s]"
      ]
     },
     "metadata": {},
     "output_type": "display_data"
    },
    {
     "data": {
      "application/vnd.jupyter.widget-view+json": {
       "model_id": "8d40dc756b754d7a9a482a42abdddef3",
       "version_major": 2,
       "version_minor": 0
      },
      "text/plain": [
       "rng_state.pth:   0%|          | 0.00/14.6k [00:00<?, ?B/s]"
      ]
     },
     "metadata": {},
     "output_type": "display_data"
    },
    {
     "data": {
      "application/vnd.jupyter.widget-view+json": {
       "model_id": "deb391d5c7504a3697a83bb7a39ef6fe",
       "version_major": 2,
       "version_minor": 0
      },
      "text/plain": [
       "trainer_state.json:   0%|          | 0.00/55.9M [00:00<?, ?B/s]"
      ]
     },
     "metadata": {},
     "output_type": "display_data"
    },
    {
     "data": {
      "application/vnd.jupyter.widget-view+json": {
       "model_id": "082ced11286340e0b391c51f69ee30b0",
       "version_major": 2,
       "version_minor": 0
      },
      "text/plain": [
       "Upload 6 LFS files:   0%|          | 0/6 [00:00<?, ?it/s]"
      ]
     },
     "metadata": {},
     "output_type": "display_data"
    },
    {
     "data": {
      "application/vnd.jupyter.widget-view+json": {
       "model_id": "712cdd62b5044764bec167d69715c677",
       "version_major": 2,
       "version_minor": 0
      },
      "text/plain": [
       "training_args.bin:   0%|          | 0.00/3.96k [00:00<?, ?B/s]"
      ]
     },
     "metadata": {},
     "output_type": "display_data"
    },
    {
     "data": {
      "text/plain": [
       "'https://huggingface.co/arbml/Ashaar_modelv2/tree/main/'"
      ]
     },
     "execution_count": 14,
     "metadata": {},
     "output_type": "execute_result"
    }
   ],
   "source": [
    "from huggingface_hub import HfApi\n",
    "api = HfApi()\n",
    "future = api.upload_folder( # Upload in the background (non-blocking action)\n",
    "    repo_id=\"arbml/Ashaar_modelv2\",\n",
    "    folder_path=\"checkpoint-450000\",\n",
    "    run_as_future=True,\n",
    ")\n",
    "future\n",
    "future.done()\n",
    "future.result() # Wait for the upload to complete (blocking action)"
   ]
  },
  {
   "cell_type": "code",
   "execution_count": 2,
   "id": "66cebb60",
   "metadata": {},
   "outputs": [
    {
     "name": "stdout",
     "output_type": "stream",
     "text": [
      "Running on local URL:  http://0.0.0.0:8999\n"
     ]
    },
    {
     "ename": "KeyboardInterrupt",
     "evalue": "",
     "output_type": "error",
     "traceback": [
      "\u001b[0;31m---------------------------------------------------------------------------\u001b[0m",
      "\u001b[0;31mKeyboardInterrupt\u001b[0m                         Traceback (most recent call last)",
      "Cell \u001b[0;32mIn[2], line 14\u001b[0m\n\u001b[1;32m      7\u001b[0m     \u001b[38;5;28;01mreturn\u001b[39;00m greeting, \u001b[38;5;28mround\u001b[39m(celsius, \u001b[38;5;241m2\u001b[39m)\n\u001b[1;32m      9\u001b[0m demo \u001b[38;5;241m=\u001b[39m gr\u001b[38;5;241m.\u001b[39mInterface(\n\u001b[1;32m     10\u001b[0m     fn\u001b[38;5;241m=\u001b[39mgreet,\n\u001b[1;32m     11\u001b[0m     inputs\u001b[38;5;241m=\u001b[39m[\u001b[38;5;124m\"\u001b[39m\u001b[38;5;124mtext\u001b[39m\u001b[38;5;124m\"\u001b[39m, \u001b[38;5;124m\"\u001b[39m\u001b[38;5;124mcheckbox\u001b[39m\u001b[38;5;124m\"\u001b[39m, gr\u001b[38;5;241m.\u001b[39mSlider(\u001b[38;5;241m0\u001b[39m, \u001b[38;5;241m100\u001b[39m)],\n\u001b[1;32m     12\u001b[0m     outputs\u001b[38;5;241m=\u001b[39m[\u001b[38;5;124m\"\u001b[39m\u001b[38;5;124mtext\u001b[39m\u001b[38;5;124m\"\u001b[39m, \u001b[38;5;124m\"\u001b[39m\u001b[38;5;124mnumber\u001b[39m\u001b[38;5;124m\"\u001b[39m],\n\u001b[1;32m     13\u001b[0m )\n\u001b[0;32m---> 14\u001b[0m \u001b[43mdemo\u001b[49m\u001b[38;5;241;43m.\u001b[39;49m\u001b[43mlaunch\u001b[49m\u001b[43m(\u001b[49m\u001b[43mserver_name\u001b[49m\u001b[38;5;241;43m=\u001b[39;49m\u001b[38;5;124;43m'\u001b[39;49m\u001b[38;5;124;43m0.0.0.0\u001b[39;49m\u001b[38;5;124;43m'\u001b[39;49m\u001b[43m,\u001b[49m\u001b[43m \u001b[49m\u001b[43mserver_port\u001b[49m\u001b[38;5;241;43m=\u001b[39;49m\u001b[38;5;241;43m8999\u001b[39;49m\u001b[43m,\u001b[49m\u001b[43m \u001b[49m\u001b[43mshare\u001b[49m\u001b[38;5;241;43m=\u001b[39;49m\u001b[38;5;28;43;01mTrue\u001b[39;49;00m\u001b[43m)\u001b[49m\n",
      "File \u001b[0;32m~/miniconda3/envs/ashaar/lib/python3.10/site-packages/gradio/blocks.py:1860\u001b[0m, in \u001b[0;36mBlocks.launch\u001b[0;34m(self, inline, inbrowser, share, debug, enable_queue, max_threads, auth, auth_message, prevent_thread_lock, show_error, server_name, server_port, show_tips, height, width, encrypt, favicon_path, ssl_keyfile, ssl_certfile, ssl_keyfile_password, ssl_verify, quiet, show_api, file_directories, allowed_paths, blocked_paths, root_path, _frontend, app_kwargs)\u001b[0m\n\u001b[1;32m   1858\u001b[0m \u001b[38;5;28;01mtry\u001b[39;00m:\n\u001b[1;32m   1859\u001b[0m     \u001b[38;5;28;01mif\u001b[39;00m \u001b[38;5;28mself\u001b[39m\u001b[38;5;241m.\u001b[39mshare_url \u001b[38;5;129;01mis\u001b[39;00m \u001b[38;5;28;01mNone\u001b[39;00m:\n\u001b[0;32m-> 1860\u001b[0m         \u001b[38;5;28mself\u001b[39m\u001b[38;5;241m.\u001b[39mshare_url \u001b[38;5;241m=\u001b[39m \u001b[43mnetworking\u001b[49m\u001b[38;5;241;43m.\u001b[39;49m\u001b[43msetup_tunnel\u001b[49m\u001b[43m(\u001b[49m\n\u001b[1;32m   1861\u001b[0m \u001b[43m            \u001b[49m\u001b[38;5;28;43mself\u001b[39;49m\u001b[38;5;241;43m.\u001b[39;49m\u001b[43mserver_name\u001b[49m\u001b[43m,\u001b[49m\u001b[43m \u001b[49m\u001b[38;5;28;43mself\u001b[39;49m\u001b[38;5;241;43m.\u001b[39;49m\u001b[43mserver_port\u001b[49m\u001b[43m,\u001b[49m\u001b[43m \u001b[49m\u001b[38;5;28;43mself\u001b[39;49m\u001b[38;5;241;43m.\u001b[39;49m\u001b[43mshare_token\u001b[49m\n\u001b[1;32m   1862\u001b[0m \u001b[43m        \u001b[49m\u001b[43m)\u001b[49m\n\u001b[1;32m   1863\u001b[0m     \u001b[38;5;28mprint\u001b[39m(strings\u001b[38;5;241m.\u001b[39men[\u001b[38;5;124m\"\u001b[39m\u001b[38;5;124mSHARE_LINK_DISPLAY\u001b[39m\u001b[38;5;124m\"\u001b[39m]\u001b[38;5;241m.\u001b[39mformat(\u001b[38;5;28mself\u001b[39m\u001b[38;5;241m.\u001b[39mshare_url))\n\u001b[1;32m   1864\u001b[0m     \u001b[38;5;28;01mif\u001b[39;00m \u001b[38;5;129;01mnot\u001b[39;00m (quiet):\n",
      "File \u001b[0;32m~/miniconda3/envs/ashaar/lib/python3.10/site-packages/gradio/networking.py:177\u001b[0m, in \u001b[0;36msetup_tunnel\u001b[0;34m(local_host, local_port, share_token)\u001b[0m\n\u001b[1;32m    173\u001b[0m     remote_host, remote_port \u001b[38;5;241m=\u001b[39m payload[\u001b[38;5;124m\"\u001b[39m\u001b[38;5;124mhost\u001b[39m\u001b[38;5;124m\"\u001b[39m], \u001b[38;5;28mint\u001b[39m(payload[\u001b[38;5;124m\"\u001b[39m\u001b[38;5;124mport\u001b[39m\u001b[38;5;124m\"\u001b[39m])\n\u001b[1;32m    174\u001b[0m     tunnel \u001b[38;5;241m=\u001b[39m Tunnel(\n\u001b[1;32m    175\u001b[0m         remote_host, remote_port, local_host, local_port, share_token\n\u001b[1;32m    176\u001b[0m     )\n\u001b[0;32m--> 177\u001b[0m     address \u001b[38;5;241m=\u001b[39m \u001b[43mtunnel\u001b[49m\u001b[38;5;241;43m.\u001b[39;49m\u001b[43mstart_tunnel\u001b[49m\u001b[43m(\u001b[49m\u001b[43m)\u001b[49m\n\u001b[1;32m    178\u001b[0m     \u001b[38;5;28;01mreturn\u001b[39;00m address\n\u001b[1;32m    179\u001b[0m \u001b[38;5;28;01mexcept\u001b[39;00m \u001b[38;5;167;01mException\u001b[39;00m \u001b[38;5;28;01mas\u001b[39;00m e:\n",
      "File \u001b[0;32m~/miniconda3/envs/ashaar/lib/python3.10/site-packages/gradio/tunneling.py:58\u001b[0m, in \u001b[0;36mTunnel.start_tunnel\u001b[0;34m(self)\u001b[0m\n\u001b[1;32m     56\u001b[0m \u001b[38;5;28;01mdef\u001b[39;00m \u001b[38;5;21mstart_tunnel\u001b[39m(\u001b[38;5;28mself\u001b[39m) \u001b[38;5;241m-\u001b[39m\u001b[38;5;241m>\u001b[39m \u001b[38;5;28mstr\u001b[39m:\n\u001b[1;32m     57\u001b[0m     \u001b[38;5;28mself\u001b[39m\u001b[38;5;241m.\u001b[39mdownload_binary()\n\u001b[0;32m---> 58\u001b[0m     \u001b[38;5;28mself\u001b[39m\u001b[38;5;241m.\u001b[39murl \u001b[38;5;241m=\u001b[39m \u001b[38;5;28;43mself\u001b[39;49m\u001b[38;5;241;43m.\u001b[39;49m\u001b[43m_start_tunnel\u001b[49m\u001b[43m(\u001b[49m\u001b[43mBINARY_PATH\u001b[49m\u001b[43m)\u001b[49m\n\u001b[1;32m     59\u001b[0m     \u001b[38;5;28;01mreturn\u001b[39;00m \u001b[38;5;28mself\u001b[39m\u001b[38;5;241m.\u001b[39murl\n",
      "File \u001b[0;32m~/miniconda3/envs/ashaar/lib/python3.10/site-packages/gradio/tunneling.py:94\u001b[0m, in \u001b[0;36mTunnel._start_tunnel\u001b[0;34m(self, binary)\u001b[0m\n\u001b[1;32m     92\u001b[0m \u001b[38;5;28;01mif\u001b[39;00m \u001b[38;5;28mself\u001b[39m\u001b[38;5;241m.\u001b[39mproc\u001b[38;5;241m.\u001b[39mstdout \u001b[38;5;129;01mis\u001b[39;00m \u001b[38;5;28;01mNone\u001b[39;00m:\n\u001b[1;32m     93\u001b[0m     \u001b[38;5;28;01mcontinue\u001b[39;00m\n\u001b[0;32m---> 94\u001b[0m line \u001b[38;5;241m=\u001b[39m \u001b[38;5;28;43mself\u001b[39;49m\u001b[38;5;241;43m.\u001b[39;49m\u001b[43mproc\u001b[49m\u001b[38;5;241;43m.\u001b[39;49m\u001b[43mstdout\u001b[49m\u001b[38;5;241;43m.\u001b[39;49m\u001b[43mreadline\u001b[49m\u001b[43m(\u001b[49m\u001b[43m)\u001b[49m\n\u001b[1;32m     95\u001b[0m line \u001b[38;5;241m=\u001b[39m line\u001b[38;5;241m.\u001b[39mdecode(\u001b[38;5;124m\"\u001b[39m\u001b[38;5;124mutf-8\u001b[39m\u001b[38;5;124m\"\u001b[39m)\n\u001b[1;32m     96\u001b[0m \u001b[38;5;28;01mif\u001b[39;00m \u001b[38;5;124m\"\u001b[39m\u001b[38;5;124mstart proxy success\u001b[39m\u001b[38;5;124m\"\u001b[39m \u001b[38;5;129;01min\u001b[39;00m line:\n",
      "\u001b[0;31mKeyboardInterrupt\u001b[0m: "
     ]
    }
   ],
   "source": []
  },
  {
   "cell_type": "code",
   "execution_count": 3,
   "id": "701bc501",
   "metadata": {},
   "outputs": [
    {
     "name": "stdout",
     "output_type": "stream",
     "text": [
      "Closing server running on port: 8999\n"
     ]
    }
   ],
   "source": [
    "gr.close_all()"
   ]
  },
  {
   "cell_type": "code",
   "execution_count": null,
   "id": "06de21eb",
   "metadata": {},
   "outputs": [],
   "source": []
  }
 ],
 "metadata": {
  "kernelspec": {
   "display_name": "Python 3 (ipykernel)",
   "language": "python",
   "name": "python3"
  },
  "language_info": {
   "codemirror_mode": {
    "name": "ipython",
    "version": 3
   },
   "file_extension": ".py",
   "mimetype": "text/x-python",
   "name": "python",
   "nbconvert_exporter": "python",
   "pygments_lexer": "ipython3",
   "version": "3.10.11"
  }
 },
 "nbformat": 4,
 "nbformat_minor": 5
}
