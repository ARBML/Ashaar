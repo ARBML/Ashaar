{
 "cells": [
  {
   "cell_type": "code",
   "execution_count": 1,
   "id": "b889f7c6",
   "metadata": {},
   "outputs": [],
   "source": [
    "import os\n",
    "os.environ['TF_CPP_MIN_LOG_LEVEL'] = '3' "
   ]
  },
  {
   "cell_type": "code",
   "execution_count": 2,
   "id": "46318997",
   "metadata": {},
   "outputs": [],
   "source": [
    "import pandas as pd\n",
    "df = pd.read_csv('resources/ashaar_arudi.csv')\n",
    "shatrs = list(df['original_shatr'])\n",
    "true = list(df['pattern'])"
   ]
  },
  {
   "cell_type": "code",
   "execution_count": 3,
   "id": "a08fbd3c",
   "metadata": {},
   "outputs": [
    {
     "name": "stdout",
     "output_type": "stream",
     "text": [
      "50\n"
     ]
    }
   ],
   "source": [
    "baits = [' # '.join(shatrs[i:i+2]) for i in range(0, len(shatrs), 2)]\n",
    "print(len(baits))"
   ]
  },
  {
   "cell_type": "code",
   "execution_count": 4,
   "id": "257212b5",
   "metadata": {},
   "outputs": [],
   "source": [
    "import pyarabic.araby as araby\n",
    "from difflib import SequenceMatcher\n",
    "\n",
    "def similarity_score(a, b):\n",
    "        return SequenceMatcher(None, a, b).ratio()"
   ]
  },
  {
   "cell_type": "code",
   "execution_count": 5,
   "id": "543a5a64",
   "metadata": {},
   "outputs": [
    {
     "name": "stdout",
     "output_type": "stream",
     "text": [
      "Exporting the pretrained models ... \n",
      "File exists: deep-learning-models.zip\n",
      "load diacritization model ... \n",
      "WARNING: could not check git hash. 'git_hash'\n"
     ]
    },
    {
     "name": "stderr",
     "output_type": "stream",
     "text": [
      "/home/g201080740/miniconda3/envs/ashaar/lib/python3.10/site-packages/torch/cuda/__init__.py:546: UserWarning: Can't initialize NVML\n",
      "  warnings.warn(\"Can't initialize NVML\")\n"
     ]
    },
    {
     "name": "stdout",
     "output_type": "stream",
     "text": [
      "loading from ./deep-learning-models/log_dir_ashaar/ashaar_proc.base.cbhg/models/10000-snapshot.pt\n",
      "load meter classification model ...\n",
      "load embedding model ...\n",
      "load era classification model ...\n",
      "load theme classification model ...\n"
     ]
    }
   ],
   "source": [
    "from Ashaar.bait_analysis import BaitAnalysis\n",
    "analysis = BaitAnalysis()"
   ]
  },
  {
   "cell_type": "code",
   "execution_count": null,
   "id": "53913794",
   "metadata": {},
   "outputs": [],
   "source": [
    "from tqdm.auto import tqdm\n",
    "preds = []\n",
    "with tqdm(total=len(baits), position=0, leave=True) as pbar:\n",
    "    for bait in baits:\n",
    "        bait = araby.strip_diacritics(bait)\n",
    "        output = analysis.analyze([bait.strip()],override_tashkeel=True, predict_theme = False, predict_era = False, predict_closest = False)\n",
    "        pred = [out[-1] for out in output['arudi_style']]\n",
    "        preds += pred\n",
    "        pbar.update()"
   ]
  },
  {
   "cell_type": "code",
   "execution_count": 7,
   "id": "801c1f80",
   "metadata": {},
   "outputs": [
    {
     "name": "stdout",
     "output_type": "stream",
     "text": [
      "Accuracy 0.9341423637449876\n",
      "Exact Match 0.43\n"
     ]
    }
   ],
   "source": [
    "avg_sim_score = []\n",
    "\n",
    "for i in range(len(true)):\n",
    "    avg_sim_score.append(similarity_score(true[i],preds[i]))\n",
    "\n",
    "print('Accuracy',sum(avg_sim_score)/len(avg_sim_score))\n",
    "print('Exact Match', len([score  for score in avg_sim_score if score == 1.0])/100)"
   ]
  }
 ],
 "metadata": {
  "kernelspec": {
   "display_name": "ashaar",
   "language": "python",
   "name": "ashaar"
  },
  "language_info": {
   "codemirror_mode": {
    "name": "ipython",
    "version": 3
   },
   "file_extension": ".py",
   "mimetype": "text/x-python",
   "name": "python",
   "nbconvert_exporter": "python",
   "pygments_lexer": "ipython3",
   "version": "3.10.11"
  }
 },
 "nbformat": 4,
 "nbformat_minor": 5
}
