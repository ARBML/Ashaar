{
 "cells": [
  {
   "cell_type": "code",
   "execution_count": 1,
   "metadata": {
    "id": "teotLzJ8gkbK"
   },
   "outputs": [],
   "source": [
    "# %%capture\n",
    "# !git clone https://github.com/ARBML/qawafi\n",
    "# !pip install -r qawafi/demo_requirements.txt"
   ]
  },
  {
   "cell_type": "code",
   "execution_count": 2,
   "metadata": {
    "id": "MibmOukkOXMm"
   },
   "outputs": [],
   "source": [
    "import sys\n",
    "server_path = '/home/g201080740/Arabic_Diacritization'\n",
    "if server_path not in sys.path:\n",
    "    sys.path.append(server_path)"
   ]
  },
  {
   "cell_type": "code",
   "execution_count": 3,
   "metadata": {},
   "outputs": [
    {
     "data": {
      "text/plain": [
       "['/home/g201080740/Ashaar',\n",
       " '/home/g201080740/miniconda3/envs/qawafi/lib/python310.zip',\n",
       " '/home/g201080740/miniconda3/envs/qawafi/lib/python3.10',\n",
       " '/home/g201080740/miniconda3/envs/qawafi/lib/python3.10/lib-dynload',\n",
       " '',\n",
       " '/home/g201080740/miniconda3/envs/qawafi/lib/python3.10/site-packages',\n",
       " '/home/g201080740/Arabic_Diacritization']"
      ]
     },
     "execution_count": 3,
     "metadata": {},
     "output_type": "execute_result"
    }
   ],
   "source": [
    "sys.path"
   ]
  },
  {
   "cell_type": "markdown",
   "metadata": {
    "id": "f60xT8iS_Hqw"
   },
   "source": [
    "ادخل الشطر في سطر منفصل"
   ]
  },
  {
   "cell_type": "code",
   "execution_count": 4,
   "metadata": {
    "id": "x5NdsE_1_AQL"
   },
   "outputs": [],
   "source": [
    "shatrs = \"\"\"\n",
    "القلب أعلم يا عذول بدائه\n",
    "وأحق منك بجفنه وبمائه\n",
    "مهلا فإن العذل من أسقامه\n",
    "وترفقا فالسمع من أعضائه\n",
    "\"\"\"\n",
    "shatrs = shatrs.split(\"\\n\")[1:-1]\n",
    "baits = [' # '.join(shatrs[2*i:2*i+2]) for i in range(len(shatrs)//2)]"
   ]
  },
  {
   "cell_type": "code",
   "execution_count": 5,
   "metadata": {},
   "outputs": [
    {
     "data": {
      "text/plain": [
       "['القلب أعلم يا عذول بدائه # وأحق منك بجفنه وبمائه',\n",
       " 'مهلا فإن العذل من أسقامه # وترفقا فالسمع من أعضائه']"
      ]
     },
     "execution_count": 5,
     "metadata": {},
     "output_type": "execute_result"
    }
   ],
   "source": [
    "baits"
   ]
  },
  {
   "cell_type": "code",
   "execution_count": 6,
   "metadata": {},
   "outputs": [],
   "source": [
    "import os\n",
    "os.environ['TF_CPP_MIN_LOG_LEVEL'] = '3' "
   ]
  },
  {
   "cell_type": "code",
   "execution_count": 7,
   "metadata": {
    "scrolled": true
   },
   "outputs": [
    {
     "data": {
      "text/plain": [
       "['القلب أعلم يا عذول بدائه # وأحق منك بجفنه وبمائه',\n",
       " 'مهلا فإن العذل من أسقامه # وترفقا فالسمع من أعضائه']"
      ]
     },
     "execution_count": 7,
     "metadata": {},
     "output_type": "execute_result"
    }
   ],
   "source": [
    "baits"
   ]
  },
  {
   "cell_type": "code",
   "execution_count": 8,
   "metadata": {},
   "outputs": [
    {
     "name": "stdout",
     "output_type": "stream",
     "text": [
      "Ashaar/config/test.yml\r\n"
     ]
    }
   ],
   "source": [
    "!ls Ashaar/config/test.yml"
   ]
  },
  {
   "cell_type": "code",
   "execution_count": 9,
   "metadata": {
    "colab": {
     "base_uri": "https://localhost:8080/",
     "height": 443,
     "referenced_widgets": [
      "8150f3cb16f84641ae77210778909c50",
      "e3b29c06fefc49209ebbe3cc3c0968a1",
      "8419ec43b7ac492e98eee9f987a49b79",
      "a82bbc7d99604777a9f7768e6a5d2229",
      "8a9899138564441ebbb4a1c1ee8fdb30",
      "625202fec06a40e7877407bc921859dd",
      "ae58202f0d1946c69f5ad8af52e20dbe",
      "2f0de23bd3084a029613a2ddd592eaea",
      "5a1361b8edc94f53861bdbc3ced7e6e6",
      "1e15652e4d6b4d38ad2606b856996eac",
      "ff9fabec88df487b979d2f03fd02633b",
      "a7848a78822e407783e228816e3635f5",
      "a12090245e6545c48f9869ccbf7bbbfa",
      "067b226cb0b3462e89b48f07817aabff",
      "a8e493d559234d92b2c066e7fc540500",
      "9c467e6a53484671b4cd80b4d1827fd0",
      "734e55cddf0040098aebeef67c1b9616",
      "5521b56374fb4f0cb1c2ae40564153fc",
      "6488c248867440789f406503d32fc3fe",
      "b68c439b0c3e4341945980dd626afbd9",
      "423557024f1749e1b0f34f854c3c9eb7",
      "fb477c09b86d45ae889478bb76b3cfd4",
      "57d8f2f0a008468b9faf76406aacb152",
      "eaf3ed187791457fb600bb457bd3e63c",
      "e6b88e8f2e01450bbc836a155d2d034f",
      "1b7e0c7ca4b349d289ffd3107b13f1a5",
      "ecc250c231f54d2fad049c34ed565592",
      "f5dced9bfb864dd292d269738c4ce8de",
      "755f5ce4b5bf4cff91a1ae4909837561",
      "1b2fcce366cf4097b4bfc550b37b48b4",
      "6fee7bd31d4e431696d8ee21acaf372d",
      "18c61c89649f4573add9252adc0beb8c",
      "8fe360c0233e4c349ed83d4f64d4941a"
     ]
    },
    "id": "8A7P_o1FkONy",
    "outputId": "56153958-47af-4832-8167-1c173d6674dc",
    "scrolled": false
   },
   "outputs": [
    {
     "name": "stderr",
     "output_type": "stream",
     "text": [
      "/home/g201080740/miniconda3/envs/qawafi/lib/python3.10/site-packages/tqdm/auto.py:21: TqdmWarning: IProgress not found. Please update jupyter and ipywidgets. See https://ipywidgets.readthedocs.io/en/stable/user_install.html\n",
      "  from .autonotebook import tqdm as notebook_tqdm\n"
     ]
    },
    {
     "name": "stdout",
     "output_type": "stream",
     "text": [
      "load diacritization model ... \n",
      "WARNING: could not check git hash. 'git_hash'\n"
     ]
    },
    {
     "name": "stderr",
     "output_type": "stream",
     "text": [
      "/home/g201080740/miniconda3/envs/qawafi/lib/python3.10/site-packages/torch/cuda/__init__.py:546: UserWarning: Can't initialize NVML\n",
      "  warnings.warn(\"Can't initialize NVML\")\n"
     ]
    },
    {
     "name": "stdout",
     "output_type": "stream",
     "text": [
      "None\n",
      "loading from log_dir_ashaar/ashaar_proc.base.cbhg/models/10000-snapshot.pt\n",
      "Exporting the pretrained models ... \n",
      "File exists: deep-learning-models.zip\n",
      "load meter classification model ...\n",
      "load embedding model ...\n",
      "load era classification model ...\n",
      "load theme classification model ...\n",
      "1/1 [==============================] - 2s 2s/step\n"
     ]
    },
    {
     "name": "stderr",
     "output_type": "stream",
     "text": [
      "Loading cached processed dataset at /home/g201080740/Ashaar/deep-learning-models/baits_embeddings/cache-9b83cfcc2da3b4ba.arrow\n"
     ]
    },
    {
     "name": "stdout",
     "output_type": "stream",
     "text": [
      "1/1 [==============================] - 0s 39ms/step\n"
     ]
    },
    {
     "name": "stderr",
     "output_type": "stream",
     "text": [
      "Loading cached processed dataset at /home/g201080740/Ashaar/deep-learning-models/baits_embeddings/cache-2e64b8e89ea6ebc5.arrow\n"
     ]
    },
    {
     "name": "stdout",
     "output_type": "stream",
     "text": [
      "1/1 [==============================] - 2s 2s/step\n",
      "1/1 [==============================] - 2s 2s/step\n",
      "1/1 [==============================] - 2s 2s/step\n",
      "الْقَلْبُ أَعْلَمُ يَا عَذُولُ بِدَائِهِ\n",
      "وَأَحَقُّ مِنكَ بِجَفنِهِ وَبِمائِهِ\n",
      "مَهْلا فَإِنَّ الْعُذْلَ مِنْ أَسْقَامِهِ\n",
      "وَتَرَفَّقَا فَالسَّمْعُ مِنْ أَعْضائِهِ\n"
     ]
    }
   ],
   "source": [
    "from Ashaar.bait_analysis import BaitAnalysis\n",
    "\n",
    "analysis = BaitAnalysis()\n",
    "output = analysis.analyze(baits,override_tashkeel=True)"
   ]
  },
  {
   "cell_type": "code",
   "execution_count": 10,
   "metadata": {
    "colab": {
     "base_uri": "https://localhost:8080/",
     "height": 258
    },
    "id": "z0B9uHYgX-mE",
    "outputId": "c1de544a-ab2c-4a13-d115-29d6b26a087e",
    "scrolled": false
   },
   "outputs": [
    {
     "data": {
      "text/html": [
       "\n",
       "    <html>\n",
       "    <head>\n",
       "    <style>\n",
       "    table {\n",
       "      font-family: arial, sans-serif;\n",
       "      border-collapse: collapse;\n",
       "      width: 100%;\n",
       "    }\n",
       "\n",
       "    td, th {\n",
       "      border: 1px solid #dddddd;\n",
       "      text-align: left;\n",
       "      padding: 8px;\n",
       "    }\n",
       "\n",
       "    tr:nth-child(even) {\n",
       "      background-color: #555555;\n",
       "    }\n",
       "    </style>\n",
       "    </head>\n",
       "\n",
       "    <table>\n",
       "        <thead>\n",
       "            <th> المشكل </th><th> الكتابة العروضية </th><th> التفعيله </th><th> النمط </th><th> البحر </th><th> الحقبة الزمنية </th><th> العاطفة </th><th> القافية </th>\n",
       "        </thead>\n",
       "    <tbody><tr><td> الْقَلْبُ أَعْلَمُ يَا عَذُولُ بِدَائِهِ </td><td> إلقلب أعلم يا عذول بدائهي </td><td> متْفاعلنْ متفاعلنْ متفاعلنْ </td><td> <span style=\"color: #36AE7C\">1</span><span style=\"color: #36AE7C\">0</span><span style=\"color: #36AE7C\">1</span><span style=\"color: #36AE7C\">0</span><span style=\"color: #36AE7C\">1</span><span style=\"color: #36AE7C\">1</span><span style=\"color: #36AE7C\">0</span><span style=\"color: #36AE7C\">1</span><span style=\"color: #36AE7C\">1</span><span style=\"color: #36AE7C\">1</span><span style=\"color: #36AE7C\">0</span><span style=\"color: #36AE7C\">1</span><span style=\"color: #36AE7C\">1</span><span style=\"color: #36AE7C\">0</span><span style=\"color: #36AE7C\">1</span><span style=\"color: #36AE7C\">1</span><span style=\"color: #36AE7C\">1</span><span style=\"color: #36AE7C\">0</span><span style=\"color: #36AE7C\">1</span><span style=\"color: #36AE7C\">1</span><span style=\"color: #36AE7C\">0</span> </td><td> الكامل </td><td> العصر الحديث </td><td> قصيدة حزينه </td><td> ء قافية بحرف الروي: ء ،  و زاد لها الوصل و الخَروج زاد لها الردف </td></tr><tr><td> وَأَحَقُّ مِنكَ بِجَفنِهِ وَبِمائِهِ </td><td> وأحقق منك بجفنهي وبائهي </td><td> متفاعلنْ متفاعلنْ متفاعلنْ </td><td> <span style=\"color: #36AE7C\">1</span><span style=\"color: #36AE7C\">1</span><span style=\"color: #36AE7C\">1</span><span style=\"color: #36AE7C\">0</span><span style=\"color: #36AE7C\">1</span><span style=\"color: #36AE7C\">1</span><span style=\"color: #36AE7C\">0</span><span style=\"color: #36AE7C\">1</span><span style=\"color: #36AE7C\">1</span><span style=\"color: #36AE7C\">1</span><span style=\"color: #36AE7C\">0</span><span style=\"color: #36AE7C\">1</span><span style=\"color: #36AE7C\">1</span><span style=\"color: #36AE7C\">0</span><span style=\"color: #36AE7C\">1</span><span style=\"color: #36AE7C\">1</span><span style=\"color: #187498\">1</span><span style=\"color: #36AE7C\">0</span><span style=\"color: #36AE7C\">1</span><span style=\"color: #36AE7C\">1</span><span style=\"color: #36AE7C\">0</span> </td><td>  </td><td>  </td><td>  </td><td>  </td></tr><tr><td> مَهْلا فَإِنَّ الْعُذْلَ مِنْ أَسْقَامِهِ </td><td> ملا فإنن لعذل من أسقامهي </td><td> متْفعلنْ متْفاعلنْ متْفاعلنْ </td><td> <span style=\"color: #36AE7C\">1</span><span style=\"color: #36AE7C\">0</span><span style=\"color: #36AE7C\">1</span><span style=\"color: #36AE7C\">1</span><span style=\"color: #36AE7C\">1</span><span style=\"color: #36AE7C\">0</span><span style=\"color: #36AE7C\">1</span><span style=\"color: #36AE7C\">0</span><span style=\"color: #36AE7C\">1</span><span style=\"color: #36AE7C\">0</span><span style=\"color: #36AE7C\">1</span><span style=\"color: #36AE7C\">1</span><span style=\"color: #36AE7C\">0</span><span style=\"color: #36AE7C\">1</span><span style=\"color: #36AE7C\">0</span><span style=\"color: #36AE7C\">1</span><span style=\"color: #36AE7C\">0</span><span style=\"color: #36AE7C\">1</span><span style=\"color: #36AE7C\">1</span><span style=\"color: #36AE7C\">0</span> </td><td>  </td><td>  </td><td>  </td><td>  </td></tr><tr><td> وَتَرَفَّقَا فَالسَّمْعُ مِنْ أَعْضائِهِ </td><td> وترففقا فسسمع من أائهي </td><td> متفاعلنْ متْفاعلنْ متْفاعلْ </td><td> <span style=\"color: #36AE7C\">1</span><span style=\"color: #36AE7C\">1</span><span style=\"color: #36AE7C\">1</span><span style=\"color: #36AE7C\">0</span><span style=\"color: #36AE7C\">1</span><span style=\"color: #36AE7C\">1</span><span style=\"color: #36AE7C\">0</span><span style=\"color: #36AE7C\">1</span><span style=\"color: #36AE7C\">0</span><span style=\"color: #36AE7C\">1</span><span style=\"color: #36AE7C\">0</span><span style=\"color: #36AE7C\">1</span><span style=\"color: #36AE7C\">1</span><span style=\"color: #36AE7C\">0</span><span style=\"color: #36AE7C\">1</span><span style=\"color: #36AE7C\">0</span><span style=\"color: #36AE7C\">1</span><span style=\"color: #187498\">0</span><span style=\"color: #36AE7C\">1</span><span style=\"color: #36AE7C\">0</span> </td><td>  </td><td>  </td><td>  </td><td>  </td></tr></tbody></table></html>"
      ],
      "text/plain": [
       "<IPython.core.display.HTML object>"
      ]
     },
     "metadata": {},
     "output_type": "display_data"
    }
   ],
   "source": [
    "from Ashaar.utils import get_output_df, display_highlighted_patterns\n",
    "df = get_output_df(output)\n",
    "display_highlighted_patterns(df)\n"
   ]
  },
  {
   "cell_type": "code",
   "execution_count": 11,
   "metadata": {},
   "outputs": [
    {
     "data": {
      "text/html": [
       "<div>\n",
       "<style scoped>\n",
       "    .dataframe tbody tr th:only-of-type {\n",
       "        vertical-align: middle;\n",
       "    }\n",
       "\n",
       "    .dataframe tbody tr th {\n",
       "        vertical-align: top;\n",
       "    }\n",
       "\n",
       "    .dataframe thead th {\n",
       "        text-align: right;\n",
       "    }\n",
       "</style>\n",
       "<table border=\"1\" class=\"dataframe\">\n",
       "  <thead>\n",
       "    <tr style=\"text-align: right;\">\n",
       "      <th></th>\n",
       "      <th>المشكل</th>\n",
       "      <th>الكتابة العروضية</th>\n",
       "      <th>التفعيله</th>\n",
       "      <th>النمط</th>\n",
       "      <th>البحر</th>\n",
       "      <th>الحقبة الزمنية</th>\n",
       "      <th>العاطفة</th>\n",
       "      <th>القافية</th>\n",
       "    </tr>\n",
       "  </thead>\n",
       "  <tbody>\n",
       "    <tr>\n",
       "      <th>0</th>\n",
       "      <td>الْقَلْبُ أَعْلَمُ يَا عَذُولُ بِدَائِهِ</td>\n",
       "      <td>إلقلب أعلم يا عذول بدائهي</td>\n",
       "      <td>متْفاعلنْ متفاعلنْ متفاعلنْ</td>\n",
       "      <td>G1G0G1G0G1G1G0G1G1G1G0G1G1G0G1G1G1G0G1G1G0</td>\n",
       "      <td>الكامل</td>\n",
       "      <td>العصر الحديث</td>\n",
       "      <td>قصيدة حزينه</td>\n",
       "      <td>ء قافية بحرف الروي: ء ،  و زاد لها الوصل و الخ...</td>\n",
       "    </tr>\n",
       "    <tr>\n",
       "      <th>1</th>\n",
       "      <td>وَأَحَقُّ مِنكَ بِجَفنِهِ وَبِمائِهِ</td>\n",
       "      <td>وأحقق منك بجفنهي وبائهي</td>\n",
       "      <td>متفاعلنْ متفاعلنْ متفاعلنْ</td>\n",
       "      <td>G1G1G1G0G1G1G0G1G1G1G0G1G1G0G1G1B1G0G1G1G0</td>\n",
       "      <td></td>\n",
       "      <td></td>\n",
       "      <td></td>\n",
       "      <td></td>\n",
       "    </tr>\n",
       "    <tr>\n",
       "      <th>2</th>\n",
       "      <td>مَهْلا فَإِنَّ الْعُذْلَ مِنْ أَسْقَامِهِ</td>\n",
       "      <td>ملا فإنن لعذل من أسقامهي</td>\n",
       "      <td>متْفعلنْ متْفاعلنْ متْفاعلنْ</td>\n",
       "      <td>G1G0G1G1G1G0G1G0G1G0G1G1G0G1G0G1G0G1G1G0</td>\n",
       "      <td></td>\n",
       "      <td></td>\n",
       "      <td></td>\n",
       "      <td></td>\n",
       "    </tr>\n",
       "    <tr>\n",
       "      <th>3</th>\n",
       "      <td>وَتَرَفَّقَا فَالسَّمْعُ مِنْ أَعْضائِهِ</td>\n",
       "      <td>وترففقا فسسمع من أائهي</td>\n",
       "      <td>متفاعلنْ متْفاعلنْ متْفاعلْ</td>\n",
       "      <td>G1G1G1G0G1G1G0G1G0G1G0G1G1G0G1G0G1B0G1G0</td>\n",
       "      <td></td>\n",
       "      <td></td>\n",
       "      <td></td>\n",
       "      <td></td>\n",
       "    </tr>\n",
       "  </tbody>\n",
       "</table>\n",
       "</div>"
      ],
      "text/plain": [
       "                                      المشكل           الكتابة العروضية  \\\n",
       "0   الْقَلْبُ أَعْلَمُ يَا عَذُولُ بِدَائِهِ  إلقلب أعلم يا عذول بدائهي   \n",
       "1       وَأَحَقُّ مِنكَ بِجَفنِهِ وَبِمائِهِ    وأحقق منك بجفنهي وبائهي   \n",
       "2  مَهْلا فَإِنَّ الْعُذْلَ مِنْ أَسْقَامِهِ   ملا فإنن لعذل من أسقامهي   \n",
       "3   وَتَرَفَّقَا فَالسَّمْعُ مِنْ أَعْضائِهِ     وترففقا فسسمع من أائهي   \n",
       "\n",
       "                       التفعيله                                       النمط  \\\n",
       "0   متْفاعلنْ متفاعلنْ متفاعلنْ  G1G0G1G0G1G1G0G1G1G1G0G1G1G0G1G1G1G0G1G1G0   \n",
       "1    متفاعلنْ متفاعلنْ متفاعلنْ  G1G1G1G0G1G1G0G1G1G1G0G1G1G0G1G1B1G0G1G1G0   \n",
       "2  متْفعلنْ متْفاعلنْ متْفاعلنْ    G1G0G1G1G1G0G1G0G1G0G1G1G0G1G0G1G0G1G1G0   \n",
       "3   متفاعلنْ متْفاعلنْ متْفاعلْ    G1G1G1G0G1G1G0G1G0G1G0G1G1G0G1G0G1B0G1G0   \n",
       "\n",
       "    البحر الحقبة الزمنية      العاطفة  \\\n",
       "0  الكامل   العصر الحديث  قصيدة حزينه   \n",
       "1                                       \n",
       "2                                       \n",
       "3                                       \n",
       "\n",
       "                                             القافية  \n",
       "0  ء قافية بحرف الروي: ء ،  و زاد لها الوصل و الخ...  \n",
       "1                                                     \n",
       "2                                                     \n",
       "3                                                     "
      ]
     },
     "execution_count": 11,
     "metadata": {},
     "output_type": "execute_result"
    }
   ],
   "source": [
    "df"
   ]
  },
  {
   "cell_type": "code",
   "execution_count": null,
   "metadata": {},
   "outputs": [],
   "source": []
  }
 ],
 "metadata": {
  "accelerator": "GPU",
  "colab": {
   "collapsed_sections": [],
   "name": "Qawafi Colab Demo.ipynb",
   "provenance": []
  },
  "kernelspec": {
   "display_name": "qawafi",
   "language": "python",
   "name": "qawafi"
  },
  "language_info": {
   "codemirror_mode": {
    "name": "ipython",
    "version": 3
   },
   "file_extension": ".py",
   "mimetype": "text/x-python",
   "name": "python",
   "nbconvert_exporter": "python",
   "pygments_lexer": "ipython3",
   "version": "3.10.11"
  },
  "widgets": {
   "application/vnd.jupyter.widget-state+json": {
    "067b226cb0b3462e89b48f07817aabff": {
     "model_module": "@jupyter-widgets/controls",
     "model_module_version": "1.5.0",
     "model_name": "FloatProgressModel",
     "state": {
      "_dom_classes": [],
      "_model_module": "@jupyter-widgets/controls",
      "_model_module_version": "1.5.0",
      "_model_name": "FloatProgressModel",
      "_view_count": null,
      "_view_module": "@jupyter-widgets/controls",
      "_view_module_version": "1.5.0",
      "_view_name": "ProgressView",
      "bar_style": "success",
      "description": "",
      "description_tooltip": null,
      "layout": "IPY_MODEL_6488c248867440789f406503d32fc3fe",
      "max": 69,
      "min": 0,
      "orientation": "horizontal",
      "style": "IPY_MODEL_b68c439b0c3e4341945980dd626afbd9",
      "value": 69
     }
    },
    "18c61c89649f4573add9252adc0beb8c": {
     "model_module": "@jupyter-widgets/base",
     "model_module_version": "1.2.0",
     "model_name": "LayoutModel",
     "state": {
      "_model_module": "@jupyter-widgets/base",
      "_model_module_version": "1.2.0",
      "_model_name": "LayoutModel",
      "_view_count": null,
      "_view_module": "@jupyter-widgets/base",
      "_view_module_version": "1.2.0",
      "_view_name": "LayoutView",
      "align_content": null,
      "align_items": null,
      "align_self": null,
      "border": null,
      "bottom": null,
      "display": null,
      "flex": null,
      "flex_flow": null,
      "grid_area": null,
      "grid_auto_columns": null,
      "grid_auto_flow": null,
      "grid_auto_rows": null,
      "grid_column": null,
      "grid_gap": null,
      "grid_row": null,
      "grid_template_areas": null,
      "grid_template_columns": null,
      "grid_template_rows": null,
      "height": null,
      "justify_content": null,
      "justify_items": null,
      "left": null,
      "margin": null,
      "max_height": null,
      "max_width": null,
      "min_height": null,
      "min_width": null,
      "object_fit": null,
      "object_position": null,
      "order": null,
      "overflow": null,
      "overflow_x": null,
      "overflow_y": null,
      "padding": null,
      "right": null,
      "top": null,
      "visibility": null,
      "width": null
     }
    },
    "1b2fcce366cf4097b4bfc550b37b48b4": {
     "model_module": "@jupyter-widgets/base",
     "model_module_version": "1.2.0",
     "model_name": "LayoutModel",
     "state": {
      "_model_module": "@jupyter-widgets/base",
      "_model_module_version": "1.2.0",
      "_model_name": "LayoutModel",
      "_view_count": null,
      "_view_module": "@jupyter-widgets/base",
      "_view_module_version": "1.2.0",
      "_view_name": "LayoutView",
      "align_content": null,
      "align_items": null,
      "align_self": null,
      "border": null,
      "bottom": null,
      "display": null,
      "flex": null,
      "flex_flow": null,
      "grid_area": null,
      "grid_auto_columns": null,
      "grid_auto_flow": null,
      "grid_auto_rows": null,
      "grid_column": null,
      "grid_gap": null,
      "grid_row": null,
      "grid_template_areas": null,
      "grid_template_columns": null,
      "grid_template_rows": null,
      "height": null,
      "justify_content": null,
      "justify_items": null,
      "left": null,
      "margin": null,
      "max_height": null,
      "max_width": null,
      "min_height": null,
      "min_width": null,
      "object_fit": null,
      "object_position": null,
      "order": null,
      "overflow": null,
      "overflow_x": null,
      "overflow_y": null,
      "padding": null,
      "right": null,
      "top": null,
      "visibility": null,
      "width": null
     }
    },
    "1b7e0c7ca4b349d289ffd3107b13f1a5": {
     "model_module": "@jupyter-widgets/controls",
     "model_module_version": "1.5.0",
     "model_name": "HTMLModel",
     "state": {
      "_dom_classes": [],
      "_model_module": "@jupyter-widgets/controls",
      "_model_module_version": "1.5.0",
      "_model_name": "HTMLModel",
      "_view_count": null,
      "_view_module": "@jupyter-widgets/controls",
      "_view_module_version": "1.5.0",
      "_view_name": "HTMLView",
      "description": "",
      "description_tooltip": null,
      "layout": "IPY_MODEL_18c61c89649f4573add9252adc0beb8c",
      "placeholder": "​",
      "style": "IPY_MODEL_8fe360c0233e4c349ed83d4f64d4941a",
      "value": " 69/69 [00:04&lt;00:00, 15.13ba/s]"
     }
    },
    "1e15652e4d6b4d38ad2606b856996eac": {
     "model_module": "@jupyter-widgets/base",
     "model_module_version": "1.2.0",
     "model_name": "LayoutModel",
     "state": {
      "_model_module": "@jupyter-widgets/base",
      "_model_module_version": "1.2.0",
      "_model_name": "LayoutModel",
      "_view_count": null,
      "_view_module": "@jupyter-widgets/base",
      "_view_module_version": "1.2.0",
      "_view_name": "LayoutView",
      "align_content": null,
      "align_items": null,
      "align_self": null,
      "border": null,
      "bottom": null,
      "display": null,
      "flex": null,
      "flex_flow": null,
      "grid_area": null,
      "grid_auto_columns": null,
      "grid_auto_flow": null,
      "grid_auto_rows": null,
      "grid_column": null,
      "grid_gap": null,
      "grid_row": null,
      "grid_template_areas": null,
      "grid_template_columns": null,
      "grid_template_rows": null,
      "height": null,
      "justify_content": null,
      "justify_items": null,
      "left": null,
      "margin": null,
      "max_height": null,
      "max_width": null,
      "min_height": null,
      "min_width": null,
      "object_fit": null,
      "object_position": null,
      "order": null,
      "overflow": null,
      "overflow_x": null,
      "overflow_y": null,
      "padding": null,
      "right": null,
      "top": null,
      "visibility": null,
      "width": null
     }
    },
    "2f0de23bd3084a029613a2ddd592eaea": {
     "model_module": "@jupyter-widgets/base",
     "model_module_version": "1.2.0",
     "model_name": "LayoutModel",
     "state": {
      "_model_module": "@jupyter-widgets/base",
      "_model_module_version": "1.2.0",
      "_model_name": "LayoutModel",
      "_view_count": null,
      "_view_module": "@jupyter-widgets/base",
      "_view_module_version": "1.2.0",
      "_view_name": "LayoutView",
      "align_content": null,
      "align_items": null,
      "align_self": null,
      "border": null,
      "bottom": null,
      "display": null,
      "flex": null,
      "flex_flow": null,
      "grid_area": null,
      "grid_auto_columns": null,
      "grid_auto_flow": null,
      "grid_auto_rows": null,
      "grid_column": null,
      "grid_gap": null,
      "grid_row": null,
      "grid_template_areas": null,
      "grid_template_columns": null,
      "grid_template_rows": null,
      "height": null,
      "justify_content": null,
      "justify_items": null,
      "left": null,
      "margin": null,
      "max_height": null,
      "max_width": null,
      "min_height": null,
      "min_width": null,
      "object_fit": null,
      "object_position": null,
      "order": null,
      "overflow": null,
      "overflow_x": null,
      "overflow_y": null,
      "padding": null,
      "right": null,
      "top": null,
      "visibility": null,
      "width": null
     }
    },
    "423557024f1749e1b0f34f854c3c9eb7": {
     "model_module": "@jupyter-widgets/base",
     "model_module_version": "1.2.0",
     "model_name": "LayoutModel",
     "state": {
      "_model_module": "@jupyter-widgets/base",
      "_model_module_version": "1.2.0",
      "_model_name": "LayoutModel",
      "_view_count": null,
      "_view_module": "@jupyter-widgets/base",
      "_view_module_version": "1.2.0",
      "_view_name": "LayoutView",
      "align_content": null,
      "align_items": null,
      "align_self": null,
      "border": null,
      "bottom": null,
      "display": null,
      "flex": null,
      "flex_flow": null,
      "grid_area": null,
      "grid_auto_columns": null,
      "grid_auto_flow": null,
      "grid_auto_rows": null,
      "grid_column": null,
      "grid_gap": null,
      "grid_row": null,
      "grid_template_areas": null,
      "grid_template_columns": null,
      "grid_template_rows": null,
      "height": null,
      "justify_content": null,
      "justify_items": null,
      "left": null,
      "margin": null,
      "max_height": null,
      "max_width": null,
      "min_height": null,
      "min_width": null,
      "object_fit": null,
      "object_position": null,
      "order": null,
      "overflow": null,
      "overflow_x": null,
      "overflow_y": null,
      "padding": null,
      "right": null,
      "top": null,
      "visibility": null,
      "width": null
     }
    },
    "5521b56374fb4f0cb1c2ae40564153fc": {
     "model_module": "@jupyter-widgets/controls",
     "model_module_version": "1.5.0",
     "model_name": "DescriptionStyleModel",
     "state": {
      "_model_module": "@jupyter-widgets/controls",
      "_model_module_version": "1.5.0",
      "_model_name": "DescriptionStyleModel",
      "_view_count": null,
      "_view_module": "@jupyter-widgets/base",
      "_view_module_version": "1.2.0",
      "_view_name": "StyleView",
      "description_width": ""
     }
    },
    "57d8f2f0a008468b9faf76406aacb152": {
     "model_module": "@jupyter-widgets/controls",
     "model_module_version": "1.5.0",
     "model_name": "HBoxModel",
     "state": {
      "_dom_classes": [],
      "_model_module": "@jupyter-widgets/controls",
      "_model_module_version": "1.5.0",
      "_model_name": "HBoxModel",
      "_view_count": null,
      "_view_module": "@jupyter-widgets/controls",
      "_view_module_version": "1.5.0",
      "_view_name": "HBoxView",
      "box_style": "",
      "children": [
       "IPY_MODEL_eaf3ed187791457fb600bb457bd3e63c",
       "IPY_MODEL_e6b88e8f2e01450bbc836a155d2d034f",
       "IPY_MODEL_1b7e0c7ca4b349d289ffd3107b13f1a5"
      ],
      "layout": "IPY_MODEL_ecc250c231f54d2fad049c34ed565592"
     }
    },
    "5a1361b8edc94f53861bdbc3ced7e6e6": {
     "model_module": "@jupyter-widgets/controls",
     "model_module_version": "1.5.0",
     "model_name": "ProgressStyleModel",
     "state": {
      "_model_module": "@jupyter-widgets/controls",
      "_model_module_version": "1.5.0",
      "_model_name": "ProgressStyleModel",
      "_view_count": null,
      "_view_module": "@jupyter-widgets/base",
      "_view_module_version": "1.2.0",
      "_view_name": "StyleView",
      "bar_color": null,
      "description_width": ""
     }
    },
    "625202fec06a40e7877407bc921859dd": {
     "model_module": "@jupyter-widgets/base",
     "model_module_version": "1.2.0",
     "model_name": "LayoutModel",
     "state": {
      "_model_module": "@jupyter-widgets/base",
      "_model_module_version": "1.2.0",
      "_model_name": "LayoutModel",
      "_view_count": null,
      "_view_module": "@jupyter-widgets/base",
      "_view_module_version": "1.2.0",
      "_view_name": "LayoutView",
      "align_content": null,
      "align_items": null,
      "align_self": null,
      "border": null,
      "bottom": null,
      "display": null,
      "flex": null,
      "flex_flow": null,
      "grid_area": null,
      "grid_auto_columns": null,
      "grid_auto_flow": null,
      "grid_auto_rows": null,
      "grid_column": null,
      "grid_gap": null,
      "grid_row": null,
      "grid_template_areas": null,
      "grid_template_columns": null,
      "grid_template_rows": null,
      "height": null,
      "justify_content": null,
      "justify_items": null,
      "left": null,
      "margin": null,
      "max_height": null,
      "max_width": null,
      "min_height": null,
      "min_width": null,
      "object_fit": null,
      "object_position": null,
      "order": null,
      "overflow": null,
      "overflow_x": null,
      "overflow_y": null,
      "padding": null,
      "right": null,
      "top": null,
      "visibility": null,
      "width": null
     }
    },
    "6488c248867440789f406503d32fc3fe": {
     "model_module": "@jupyter-widgets/base",
     "model_module_version": "1.2.0",
     "model_name": "LayoutModel",
     "state": {
      "_model_module": "@jupyter-widgets/base",
      "_model_module_version": "1.2.0",
      "_model_name": "LayoutModel",
      "_view_count": null,
      "_view_module": "@jupyter-widgets/base",
      "_view_module_version": "1.2.0",
      "_view_name": "LayoutView",
      "align_content": null,
      "align_items": null,
      "align_self": null,
      "border": null,
      "bottom": null,
      "display": null,
      "flex": null,
      "flex_flow": null,
      "grid_area": null,
      "grid_auto_columns": null,
      "grid_auto_flow": null,
      "grid_auto_rows": null,
      "grid_column": null,
      "grid_gap": null,
      "grid_row": null,
      "grid_template_areas": null,
      "grid_template_columns": null,
      "grid_template_rows": null,
      "height": null,
      "justify_content": null,
      "justify_items": null,
      "left": null,
      "margin": null,
      "max_height": null,
      "max_width": null,
      "min_height": null,
      "min_width": null,
      "object_fit": null,
      "object_position": null,
      "order": null,
      "overflow": null,
      "overflow_x": null,
      "overflow_y": null,
      "padding": null,
      "right": null,
      "top": null,
      "visibility": null,
      "width": null
     }
    },
    "6fee7bd31d4e431696d8ee21acaf372d": {
     "model_module": "@jupyter-widgets/controls",
     "model_module_version": "1.5.0",
     "model_name": "ProgressStyleModel",
     "state": {
      "_model_module": "@jupyter-widgets/controls",
      "_model_module_version": "1.5.0",
      "_model_name": "ProgressStyleModel",
      "_view_count": null,
      "_view_module": "@jupyter-widgets/base",
      "_view_module_version": "1.2.0",
      "_view_name": "StyleView",
      "bar_color": null,
      "description_width": ""
     }
    },
    "734e55cddf0040098aebeef67c1b9616": {
     "model_module": "@jupyter-widgets/base",
     "model_module_version": "1.2.0",
     "model_name": "LayoutModel",
     "state": {
      "_model_module": "@jupyter-widgets/base",
      "_model_module_version": "1.2.0",
      "_model_name": "LayoutModel",
      "_view_count": null,
      "_view_module": "@jupyter-widgets/base",
      "_view_module_version": "1.2.0",
      "_view_name": "LayoutView",
      "align_content": null,
      "align_items": null,
      "align_self": null,
      "border": null,
      "bottom": null,
      "display": null,
      "flex": null,
      "flex_flow": null,
      "grid_area": null,
      "grid_auto_columns": null,
      "grid_auto_flow": null,
      "grid_auto_rows": null,
      "grid_column": null,
      "grid_gap": null,
      "grid_row": null,
      "grid_template_areas": null,
      "grid_template_columns": null,
      "grid_template_rows": null,
      "height": null,
      "justify_content": null,
      "justify_items": null,
      "left": null,
      "margin": null,
      "max_height": null,
      "max_width": null,
      "min_height": null,
      "min_width": null,
      "object_fit": null,
      "object_position": null,
      "order": null,
      "overflow": null,
      "overflow_x": null,
      "overflow_y": null,
      "padding": null,
      "right": null,
      "top": null,
      "visibility": null,
      "width": null
     }
    },
    "755f5ce4b5bf4cff91a1ae4909837561": {
     "model_module": "@jupyter-widgets/controls",
     "model_module_version": "1.5.0",
     "model_name": "DescriptionStyleModel",
     "state": {
      "_model_module": "@jupyter-widgets/controls",
      "_model_module_version": "1.5.0",
      "_model_name": "DescriptionStyleModel",
      "_view_count": null,
      "_view_module": "@jupyter-widgets/base",
      "_view_module_version": "1.2.0",
      "_view_name": "StyleView",
      "description_width": ""
     }
    },
    "8150f3cb16f84641ae77210778909c50": {
     "model_module": "@jupyter-widgets/controls",
     "model_module_version": "1.5.0",
     "model_name": "HBoxModel",
     "state": {
      "_dom_classes": [],
      "_model_module": "@jupyter-widgets/controls",
      "_model_module_version": "1.5.0",
      "_model_name": "HBoxModel",
      "_view_count": null,
      "_view_module": "@jupyter-widgets/controls",
      "_view_module_version": "1.5.0",
      "_view_name": "HBoxView",
      "box_style": "",
      "children": [
       "IPY_MODEL_e3b29c06fefc49209ebbe3cc3c0968a1",
       "IPY_MODEL_8419ec43b7ac492e98eee9f987a49b79",
       "IPY_MODEL_a82bbc7d99604777a9f7768e6a5d2229"
      ],
      "layout": "IPY_MODEL_8a9899138564441ebbb4a1c1ee8fdb30"
     }
    },
    "8419ec43b7ac492e98eee9f987a49b79": {
     "model_module": "@jupyter-widgets/controls",
     "model_module_version": "1.5.0",
     "model_name": "FloatProgressModel",
     "state": {
      "_dom_classes": [],
      "_model_module": "@jupyter-widgets/controls",
      "_model_module_version": "1.5.0",
      "_model_name": "FloatProgressModel",
      "_view_count": null,
      "_view_module": "@jupyter-widgets/controls",
      "_view_module_version": "1.5.0",
      "_view_name": "ProgressView",
      "bar_style": "success",
      "description": "",
      "description_tooltip": null,
      "layout": "IPY_MODEL_2f0de23bd3084a029613a2ddd592eaea",
      "max": 69,
      "min": 0,
      "orientation": "horizontal",
      "style": "IPY_MODEL_5a1361b8edc94f53861bdbc3ced7e6e6",
      "value": 69
     }
    },
    "8a9899138564441ebbb4a1c1ee8fdb30": {
     "model_module": "@jupyter-widgets/base",
     "model_module_version": "1.2.0",
     "model_name": "LayoutModel",
     "state": {
      "_model_module": "@jupyter-widgets/base",
      "_model_module_version": "1.2.0",
      "_model_name": "LayoutModel",
      "_view_count": null,
      "_view_module": "@jupyter-widgets/base",
      "_view_module_version": "1.2.0",
      "_view_name": "LayoutView",
      "align_content": null,
      "align_items": null,
      "align_self": null,
      "border": null,
      "bottom": null,
      "display": null,
      "flex": null,
      "flex_flow": null,
      "grid_area": null,
      "grid_auto_columns": null,
      "grid_auto_flow": null,
      "grid_auto_rows": null,
      "grid_column": null,
      "grid_gap": null,
      "grid_row": null,
      "grid_template_areas": null,
      "grid_template_columns": null,
      "grid_template_rows": null,
      "height": null,
      "justify_content": null,
      "justify_items": null,
      "left": null,
      "margin": null,
      "max_height": null,
      "max_width": null,
      "min_height": null,
      "min_width": null,
      "object_fit": null,
      "object_position": null,
      "order": null,
      "overflow": null,
      "overflow_x": null,
      "overflow_y": null,
      "padding": null,
      "right": null,
      "top": null,
      "visibility": null,
      "width": null
     }
    },
    "8fe360c0233e4c349ed83d4f64d4941a": {
     "model_module": "@jupyter-widgets/controls",
     "model_module_version": "1.5.0",
     "model_name": "DescriptionStyleModel",
     "state": {
      "_model_module": "@jupyter-widgets/controls",
      "_model_module_version": "1.5.0",
      "_model_name": "DescriptionStyleModel",
      "_view_count": null,
      "_view_module": "@jupyter-widgets/base",
      "_view_module_version": "1.2.0",
      "_view_name": "StyleView",
      "description_width": ""
     }
    },
    "9c467e6a53484671b4cd80b4d1827fd0": {
     "model_module": "@jupyter-widgets/base",
     "model_module_version": "1.2.0",
     "model_name": "LayoutModel",
     "state": {
      "_model_module": "@jupyter-widgets/base",
      "_model_module_version": "1.2.0",
      "_model_name": "LayoutModel",
      "_view_count": null,
      "_view_module": "@jupyter-widgets/base",
      "_view_module_version": "1.2.0",
      "_view_name": "LayoutView",
      "align_content": null,
      "align_items": null,
      "align_self": null,
      "border": null,
      "bottom": null,
      "display": null,
      "flex": null,
      "flex_flow": null,
      "grid_area": null,
      "grid_auto_columns": null,
      "grid_auto_flow": null,
      "grid_auto_rows": null,
      "grid_column": null,
      "grid_gap": null,
      "grid_row": null,
      "grid_template_areas": null,
      "grid_template_columns": null,
      "grid_template_rows": null,
      "height": null,
      "justify_content": null,
      "justify_items": null,
      "left": null,
      "margin": null,
      "max_height": null,
      "max_width": null,
      "min_height": null,
      "min_width": null,
      "object_fit": null,
      "object_position": null,
      "order": null,
      "overflow": null,
      "overflow_x": null,
      "overflow_y": null,
      "padding": null,
      "right": null,
      "top": null,
      "visibility": null,
      "width": null
     }
    },
    "a12090245e6545c48f9869ccbf7bbbfa": {
     "model_module": "@jupyter-widgets/controls",
     "model_module_version": "1.5.0",
     "model_name": "HTMLModel",
     "state": {
      "_dom_classes": [],
      "_model_module": "@jupyter-widgets/controls",
      "_model_module_version": "1.5.0",
      "_model_name": "HTMLModel",
      "_view_count": null,
      "_view_module": "@jupyter-widgets/controls",
      "_view_module_version": "1.5.0",
      "_view_name": "HTMLView",
      "description": "",
      "description_tooltip": null,
      "layout": "IPY_MODEL_734e55cddf0040098aebeef67c1b9616",
      "placeholder": "​",
      "style": "IPY_MODEL_5521b56374fb4f0cb1c2ae40564153fc",
      "value": "100%"
     }
    },
    "a7848a78822e407783e228816e3635f5": {
     "model_module": "@jupyter-widgets/controls",
     "model_module_version": "1.5.0",
     "model_name": "HBoxModel",
     "state": {
      "_dom_classes": [],
      "_model_module": "@jupyter-widgets/controls",
      "_model_module_version": "1.5.0",
      "_model_name": "HBoxModel",
      "_view_count": null,
      "_view_module": "@jupyter-widgets/controls",
      "_view_module_version": "1.5.0",
      "_view_name": "HBoxView",
      "box_style": "",
      "children": [
       "IPY_MODEL_a12090245e6545c48f9869ccbf7bbbfa",
       "IPY_MODEL_067b226cb0b3462e89b48f07817aabff",
       "IPY_MODEL_a8e493d559234d92b2c066e7fc540500"
      ],
      "layout": "IPY_MODEL_9c467e6a53484671b4cd80b4d1827fd0"
     }
    },
    "a82bbc7d99604777a9f7768e6a5d2229": {
     "model_module": "@jupyter-widgets/controls",
     "model_module_version": "1.5.0",
     "model_name": "HTMLModel",
     "state": {
      "_dom_classes": [],
      "_model_module": "@jupyter-widgets/controls",
      "_model_module_version": "1.5.0",
      "_model_name": "HTMLModel",
      "_view_count": null,
      "_view_module": "@jupyter-widgets/controls",
      "_view_module_version": "1.5.0",
      "_view_name": "HTMLView",
      "description": "",
      "description_tooltip": null,
      "layout": "IPY_MODEL_1e15652e4d6b4d38ad2606b856996eac",
      "placeholder": "​",
      "style": "IPY_MODEL_ff9fabec88df487b979d2f03fd02633b",
      "value": " 69/69 [00:04&lt;00:00, 15.59ba/s]"
     }
    },
    "a8e493d559234d92b2c066e7fc540500": {
     "model_module": "@jupyter-widgets/controls",
     "model_module_version": "1.5.0",
     "model_name": "HTMLModel",
     "state": {
      "_dom_classes": [],
      "_model_module": "@jupyter-widgets/controls",
      "_model_module_version": "1.5.0",
      "_model_name": "HTMLModel",
      "_view_count": null,
      "_view_module": "@jupyter-widgets/controls",
      "_view_module_version": "1.5.0",
      "_view_name": "HTMLView",
      "description": "",
      "description_tooltip": null,
      "layout": "IPY_MODEL_423557024f1749e1b0f34f854c3c9eb7",
      "placeholder": "​",
      "style": "IPY_MODEL_fb477c09b86d45ae889478bb76b3cfd4",
      "value": " 69/69 [00:04&lt;00:00, 15.32ba/s]"
     }
    },
    "ae58202f0d1946c69f5ad8af52e20dbe": {
     "model_module": "@jupyter-widgets/controls",
     "model_module_version": "1.5.0",
     "model_name": "DescriptionStyleModel",
     "state": {
      "_model_module": "@jupyter-widgets/controls",
      "_model_module_version": "1.5.0",
      "_model_name": "DescriptionStyleModel",
      "_view_count": null,
      "_view_module": "@jupyter-widgets/base",
      "_view_module_version": "1.2.0",
      "_view_name": "StyleView",
      "description_width": ""
     }
    },
    "b68c439b0c3e4341945980dd626afbd9": {
     "model_module": "@jupyter-widgets/controls",
     "model_module_version": "1.5.0",
     "model_name": "ProgressStyleModel",
     "state": {
      "_model_module": "@jupyter-widgets/controls",
      "_model_module_version": "1.5.0",
      "_model_name": "ProgressStyleModel",
      "_view_count": null,
      "_view_module": "@jupyter-widgets/base",
      "_view_module_version": "1.2.0",
      "_view_name": "StyleView",
      "bar_color": null,
      "description_width": ""
     }
    },
    "e3b29c06fefc49209ebbe3cc3c0968a1": {
     "model_module": "@jupyter-widgets/controls",
     "model_module_version": "1.5.0",
     "model_name": "HTMLModel",
     "state": {
      "_dom_classes": [],
      "_model_module": "@jupyter-widgets/controls",
      "_model_module_version": "1.5.0",
      "_model_name": "HTMLModel",
      "_view_count": null,
      "_view_module": "@jupyter-widgets/controls",
      "_view_module_version": "1.5.0",
      "_view_name": "HTMLView",
      "description": "",
      "description_tooltip": null,
      "layout": "IPY_MODEL_625202fec06a40e7877407bc921859dd",
      "placeholder": "​",
      "style": "IPY_MODEL_ae58202f0d1946c69f5ad8af52e20dbe",
      "value": "100%"
     }
    },
    "e6b88e8f2e01450bbc836a155d2d034f": {
     "model_module": "@jupyter-widgets/controls",
     "model_module_version": "1.5.0",
     "model_name": "FloatProgressModel",
     "state": {
      "_dom_classes": [],
      "_model_module": "@jupyter-widgets/controls",
      "_model_module_version": "1.5.0",
      "_model_name": "FloatProgressModel",
      "_view_count": null,
      "_view_module": "@jupyter-widgets/controls",
      "_view_module_version": "1.5.0",
      "_view_name": "ProgressView",
      "bar_style": "success",
      "description": "",
      "description_tooltip": null,
      "layout": "IPY_MODEL_1b2fcce366cf4097b4bfc550b37b48b4",
      "max": 69,
      "min": 0,
      "orientation": "horizontal",
      "style": "IPY_MODEL_6fee7bd31d4e431696d8ee21acaf372d",
      "value": 69
     }
    },
    "eaf3ed187791457fb600bb457bd3e63c": {
     "model_module": "@jupyter-widgets/controls",
     "model_module_version": "1.5.0",
     "model_name": "HTMLModel",
     "state": {
      "_dom_classes": [],
      "_model_module": "@jupyter-widgets/controls",
      "_model_module_version": "1.5.0",
      "_model_name": "HTMLModel",
      "_view_count": null,
      "_view_module": "@jupyter-widgets/controls",
      "_view_module_version": "1.5.0",
      "_view_name": "HTMLView",
      "description": "",
      "description_tooltip": null,
      "layout": "IPY_MODEL_f5dced9bfb864dd292d269738c4ce8de",
      "placeholder": "​",
      "style": "IPY_MODEL_755f5ce4b5bf4cff91a1ae4909837561",
      "value": "100%"
     }
    },
    "ecc250c231f54d2fad049c34ed565592": {
     "model_module": "@jupyter-widgets/base",
     "model_module_version": "1.2.0",
     "model_name": "LayoutModel",
     "state": {
      "_model_module": "@jupyter-widgets/base",
      "_model_module_version": "1.2.0",
      "_model_name": "LayoutModel",
      "_view_count": null,
      "_view_module": "@jupyter-widgets/base",
      "_view_module_version": "1.2.0",
      "_view_name": "LayoutView",
      "align_content": null,
      "align_items": null,
      "align_self": null,
      "border": null,
      "bottom": null,
      "display": null,
      "flex": null,
      "flex_flow": null,
      "grid_area": null,
      "grid_auto_columns": null,
      "grid_auto_flow": null,
      "grid_auto_rows": null,
      "grid_column": null,
      "grid_gap": null,
      "grid_row": null,
      "grid_template_areas": null,
      "grid_template_columns": null,
      "grid_template_rows": null,
      "height": null,
      "justify_content": null,
      "justify_items": null,
      "left": null,
      "margin": null,
      "max_height": null,
      "max_width": null,
      "min_height": null,
      "min_width": null,
      "object_fit": null,
      "object_position": null,
      "order": null,
      "overflow": null,
      "overflow_x": null,
      "overflow_y": null,
      "padding": null,
      "right": null,
      "top": null,
      "visibility": null,
      "width": null
     }
    },
    "f5dced9bfb864dd292d269738c4ce8de": {
     "model_module": "@jupyter-widgets/base",
     "model_module_version": "1.2.0",
     "model_name": "LayoutModel",
     "state": {
      "_model_module": "@jupyter-widgets/base",
      "_model_module_version": "1.2.0",
      "_model_name": "LayoutModel",
      "_view_count": null,
      "_view_module": "@jupyter-widgets/base",
      "_view_module_version": "1.2.0",
      "_view_name": "LayoutView",
      "align_content": null,
      "align_items": null,
      "align_self": null,
      "border": null,
      "bottom": null,
      "display": null,
      "flex": null,
      "flex_flow": null,
      "grid_area": null,
      "grid_auto_columns": null,
      "grid_auto_flow": null,
      "grid_auto_rows": null,
      "grid_column": null,
      "grid_gap": null,
      "grid_row": null,
      "grid_template_areas": null,
      "grid_template_columns": null,
      "grid_template_rows": null,
      "height": null,
      "justify_content": null,
      "justify_items": null,
      "left": null,
      "margin": null,
      "max_height": null,
      "max_width": null,
      "min_height": null,
      "min_width": null,
      "object_fit": null,
      "object_position": null,
      "order": null,
      "overflow": null,
      "overflow_x": null,
      "overflow_y": null,
      "padding": null,
      "right": null,
      "top": null,
      "visibility": null,
      "width": null
     }
    },
    "fb477c09b86d45ae889478bb76b3cfd4": {
     "model_module": "@jupyter-widgets/controls",
     "model_module_version": "1.5.0",
     "model_name": "DescriptionStyleModel",
     "state": {
      "_model_module": "@jupyter-widgets/controls",
      "_model_module_version": "1.5.0",
      "_model_name": "DescriptionStyleModel",
      "_view_count": null,
      "_view_module": "@jupyter-widgets/base",
      "_view_module_version": "1.2.0",
      "_view_name": "StyleView",
      "description_width": ""
     }
    },
    "ff9fabec88df487b979d2f03fd02633b": {
     "model_module": "@jupyter-widgets/controls",
     "model_module_version": "1.5.0",
     "model_name": "DescriptionStyleModel",
     "state": {
      "_model_module": "@jupyter-widgets/controls",
      "_model_module_version": "1.5.0",
      "_model_name": "DescriptionStyleModel",
      "_view_count": null,
      "_view_module": "@jupyter-widgets/base",
      "_view_module_version": "1.2.0",
      "_view_name": "StyleView",
      "description_width": ""
     }
    }
   }
  }
 },
 "nbformat": 4,
 "nbformat_minor": 1
}
