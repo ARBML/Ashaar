{
 "cells": [
  {
   "cell_type": "code",
   "execution_count": 1,
   "id": "e8247a12",
   "metadata": {
    "scrolled": true
   },
   "outputs": [
    {
     "data": {
      "application/vnd.jupyter.widget-view+json": {
       "model_id": "06f0e29e5207454a87a8a6c38099ef22",
       "version_major": 2,
       "version_minor": 0
      },
      "text/plain": [
       "Downloading readme:   0%|          | 0.00/4.25k [00:00<?, ?B/s]"
      ]
     },
     "metadata": {},
     "output_type": "display_data"
    },
    {
     "name": "stdout",
     "output_type": "stream",
     "text": [
      "Downloading and preparing dataset None/None to /home/g201080740/.cache/huggingface/datasets/Zaid___parquet/Zaid--ashaar_datasetv2-029803fd0fe2f567/0.0.0/2a3b91fbd88a2c90d1dbbb32b460cf621d31bd5b05b934492fdef7d8d6f236ec...\n"
     ]
    },
    {
     "data": {
      "application/vnd.jupyter.widget-view+json": {
       "model_id": "6449e5ecce604ead8b6f05b465757b6f",
       "version_major": 2,
       "version_minor": 0
      },
      "text/plain": [
       "Downloading data files:   0%|          | 0/1 [00:00<?, ?it/s]"
      ]
     },
     "metadata": {},
     "output_type": "display_data"
    },
    {
     "data": {
      "application/vnd.jupyter.widget-view+json": {
       "model_id": "c5234c8e01564cde98f0ab6a82c49bb5",
       "version_major": 2,
       "version_minor": 0
      },
      "text/plain": [
       "Downloading data:   0%|          | 0.00/177M [00:00<?, ?B/s]"
      ]
     },
     "metadata": {},
     "output_type": "display_data"
    },
    {
     "data": {
      "application/vnd.jupyter.widget-view+json": {
       "model_id": "589947ec05a64c288bcf413a4aeba079",
       "version_major": 2,
       "version_minor": 0
      },
      "text/plain": [
       "Downloading data:   0%|          | 0.00/195M [00:00<?, ?B/s]"
      ]
     },
     "metadata": {},
     "output_type": "display_data"
    },
    {
     "data": {
      "application/vnd.jupyter.widget-view+json": {
       "model_id": "ff27ae4ed9ae416097003da72df44fe0",
       "version_major": 2,
       "version_minor": 0
      },
      "text/plain": [
       "Extracting data files:   0%|          | 0/1 [00:00<?, ?it/s]"
      ]
     },
     "metadata": {},
     "output_type": "display_data"
    },
    {
     "data": {
      "application/vnd.jupyter.widget-view+json": {
       "model_id": "",
       "version_major": 2,
       "version_minor": 0
      },
      "text/plain": [
       "Generating train split:   0%|          | 0/212499 [00:00<?, ? examples/s]"
      ]
     },
     "metadata": {},
     "output_type": "display_data"
    },
    {
     "name": "stdout",
     "output_type": "stream",
     "text": [
      "Dataset parquet downloaded and prepared to /home/g201080740/.cache/huggingface/datasets/Zaid___parquet/Zaid--ashaar_datasetv2-029803fd0fe2f567/0.0.0/2a3b91fbd88a2c90d1dbbb32b460cf621d31bd5b05b934492fdef7d8d6f236ec. Subsequent calls will reuse this data.\n"
     ]
    },
    {
     "data": {
      "application/vnd.jupyter.widget-view+json": {
       "model_id": "a728502962ba43c2868bb4a7b9ac992f",
       "version_major": 2,
       "version_minor": 0
      },
      "text/plain": [
       "  0%|          | 0/1 [00:00<?, ?it/s]"
      ]
     },
     "metadata": {},
     "output_type": "display_data"
    }
   ],
   "source": [
    "from datasets import load_dataset\n",
    "ashaar = load_dataset('Zaid/ashaar_datasetv2')"
   ]
  },
  {
   "cell_type": "code",
   "execution_count": 2,
   "id": "6b7a7c70-08a2-4d56-acf8-53cdebf5e80a",
   "metadata": {},
   "outputs": [
    {
     "data": {
      "text/plain": [
       "'<|meter_0|> م <|theme_18|> <|psep|> <|bsep|> أَصبَحَ المُلك لِلَّذي فَطر الخَل <|vsep|> قَ بِتَقديرٍ للعَزيز العَليمِ </|bsep|> <|bsep|> غافر الذَنب للمسيءِ بِعَفوٍ <|vsep|> قابل التَوب ذي العَطاء العَميمِ </|bsep|> <|bsep|> مُرسل المُصطَفى البَشير ِلَينا <|vsep|> رَحمة مِنهُ بِالكَلام القَديمِ </|bsep|> <|bsep|> رَبَنا رَبّنا ِلَيكَ أَنينا <|vsep|> فَأَجرنا مِن حَر نار الجَحيمِ </|bsep|> <|bsep|> وَاكفِنا شَرّ ما نَخاف بِلُطفٍ <|vsep|> يا عَظيماً يَرجى لِكُل عَظيمِ </|bsep|> <|bsep|> وَتَقبل أَعمالَنا وَاعفُ عَنا <|vsep|> وَأَنلنا دُخول دار النَعيمِ </|bsep|> <|bsep|> بِنَبي بَعثَتهُ فَهَدانا <|vsep|> لِصِراط مِن الهُدى مُستَقيمِ </|bsep|> <|bsep|> وَبِمَن نَحنُ في حِماهُ مَدى الدَهر <|vsep|> أَخيهِ يَحيى الحصور الكَريمِ </|bsep|> <|bsep|> أَدرك أَدرك قَوماً أَتوا بافتقار <|vsep|> وَاِنكِسار وَمَدمَع مَسجومِ </|bsep|> </|psep|>'"
      ]
     },
     "execution_count": 2,
     "metadata": {},
     "output_type": "execute_result"
    }
   ],
   "source": [
    "ashaar['train'][0]['text']"
   ]
  },
  {
   "cell_type": "code",
   "execution_count": 3,
   "id": "27b5b276",
   "metadata": {},
   "outputs": [
    {
     "data": {
      "text/plain": [
       "DatasetDict({\n",
       "    train: Dataset({\n",
       "        features: ['poem title', 'poem meter', 'poem verses', 'poem theme', 'poem url', 'poet name', 'poet description', 'poet url', 'poet era', 'poet location', 'poem description', 'poem language type', 'text'],\n",
       "        num_rows: 212499\n",
       "    })\n",
       "})"
      ]
     },
     "execution_count": 3,
     "metadata": {},
     "output_type": "execute_result"
    }
   ],
   "source": [
    "ashaar"
   ]
  },
  {
   "cell_type": "code",
   "execution_count": 4,
   "id": "b152b835-55fa-43df-8880-089de8faf12a",
   "metadata": {},
   "outputs": [],
   "source": [
    "import json \n",
    "theme_to_token = json.load(open(\"theme_tokens.json\", \"r\"))\n",
    "token_to_theme = {t:m for m,t in theme_to_token.items()}\n",
    "\n",
    "meter_to_token = json.load(open(\"meter_tokens.json\", \"r\"))\n",
    "token_to_meter = {t:m for m,t in meter_to_token.items()}"
   ]
  },
  {
   "cell_type": "code",
   "execution_count": 5,
   "id": "d321e5b0",
   "metadata": {},
   "outputs": [
    {
     "ename": "ModuleNotFoundError",
     "evalue": "No module named 'transformers'",
     "output_type": "error",
     "traceback": [
      "\u001b[0;31m---------------------------------------------------------------------------\u001b[0m",
      "\u001b[0;31mModuleNotFoundError\u001b[0m                       Traceback (most recent call last)",
      "Cell \u001b[0;32mIn[5], line 1\u001b[0m\n\u001b[0;32m----> 1\u001b[0m \u001b[38;5;28;01mfrom\u001b[39;00m \u001b[38;5;21;01mtransformers\u001b[39;00m \u001b[38;5;28;01mimport\u001b[39;00m AutoTokenizer, AutoModelForCausalLM\n\u001b[1;32m      3\u001b[0m gpt_tokenizer \u001b[38;5;241m=\u001b[39m AutoTokenizer\u001b[38;5;241m.\u001b[39mfrom_pretrained(\u001b[38;5;124m'\u001b[39m\u001b[38;5;124mZaid/ashaar_tokenizerv2\u001b[39m\u001b[38;5;124m'\u001b[39m)\n\u001b[1;32m      4\u001b[0m encoded_input \u001b[38;5;241m=\u001b[39m gpt_tokenizer([\u001b[38;5;124m'\u001b[39m\u001b[38;5;124m<|psep|>\u001b[39m\u001b[38;5;124m'\u001b[39m], return_tensors\u001b[38;5;241m=\u001b[39m\u001b[38;5;124m'\u001b[39m\u001b[38;5;124mpt\u001b[39m\u001b[38;5;124m'\u001b[39m)\n",
      "\u001b[0;31mModuleNotFoundError\u001b[0m: No module named 'transformers'"
     ]
    }
   ],
   "source": [
    "from transformers import AutoTokenizer, AutoModelForCausalLM\n",
    "\n",
    "gpt_tokenizer = AutoTokenizer.from_pretrained('Zaid/ashaar_tokenizerv2')\n",
    "encoded_input = gpt_tokenizer(['<|psep|>'], return_tensors='pt')\n",
    "model = AutoModelForCausalLM.from_pretrained('checkpoint-400000')"
   ]
  },
  {
   "cell_type": "code",
   "execution_count": 139,
   "id": "462f0541-c72b-42f8-a228-072865115bce",
   "metadata": {},
   "outputs": [
    {
     "name": "stderr",
     "output_type": "stream",
     "text": [
      "Setting `pad_token_id` to `eos_token_id`:50256 for open-end generation.\n"
     ]
    },
    {
     "name": "stdout",
     "output_type": "stream",
     "text": [
      "<|meter_14|> ك <|theme_18|>\n",
      "{'input_ids': tensor([[ 21, 105,  53,  42]]), 'attention_mask': tensor([[1, 1, 1, 1]])}\n"
     ]
    }
   ],
   "source": [
    "theme = \"قصيدة دينية\"\n",
    "meter = \"الكامل\"\n",
    "qafiyah = \"ك\"\n",
    "prompt = f\"{meter_to_token[meter]} {qafiyah} {theme_to_token[theme]}\"\n",
    "print(prompt)\n",
    "encoded_input = gpt_tokenizer(prompt, return_tensors='pt')\n",
    "output = model.generate(**encoded_input, max_length = 512, top_p = 3, do_sample=True)\n",
    "print(encoded_input)"
   ]
  },
  {
   "cell_type": "code",
   "execution_count": 140,
   "id": "a71f79b4-9d07-4e76-8fc4-86bdc7a8d268",
   "metadata": {},
   "outputs": [
    {
     "name": "stdout",
     "output_type": "stream",
     "text": [
      "قصيدة دينية من بحر الكامل مع قافية بحر (ك)\n",
      "\n",
      "أَدَبٌ غَدَت عَبراً لَها *** تَقبيلَ طِفلٍ في لَظاك \n",
      "\n",
      "راعَت مَعاهِدُ لَيلَتي *** في حَيثُ لاتَكَ في هَناك \n",
      "\n",
      "سِفرَ استَرَقَّ الدَمعُ يُح *** رِقُ ثَديُها بَعدَ السِفاك \n",
      "\n",
      "في غَفلَةٍ زُهِيَت بِمِص *** بَح عَنهُمُ يَومَ الصَباك \n",
      "\n",
      "وَغَدَت سَوافِرُ بَعدَما *** سَفَرَت بِنَستُرِ بِالنِساك \n",
      "\n",
      "وَنَكَثتُ وَهيَ حَبيبَةٌ *** يَومَ التَنَصُّلِ وَالشَراك \n",
      "\n",
      "تَجِدُ اللُبانَةَ فَالأُنو *** فَ تَلَبُّساً وَثَنى الرِكاك \n",
      "\n",
      "وَالوَبلُ في شَوقٍ لِِم *** لاقَ حَبيبَهُمُ وَحاك \n",
      "\n"
     ]
    }
   ],
   "source": [
    "result = \"\"\n",
    "prev_token = \"\"\n",
    "\n",
    "for i, beam in enumerate(output[:, len(encoded_input.input_ids[0]):]):\n",
    "    for token in beam:\n",
    "        decoded = gpt_tokenizer.decode(token)\n",
    "        if 'meter' in decoded or 'theme' in decoded:\n",
    "            break\n",
    "        if decoded == \"<|vsep|>\":\n",
    "            result += \"*** \"\n",
    "        elif decoded in [\"<|bsep|>\", \"</|bsep|>\"]:\n",
    "            result += \"\\n\"\n",
    "        elif decoded in ['<|psep|>', '</|psep|>']:\n",
    "            pass\n",
    "        else:\n",
    "            result += decoded\n",
    "        prev_token = decoded\n",
    "    else:\n",
    "        break\n",
    "print(theme+\" \"+ f\"من بحر {meter} مع قافية بحر ({qafiyah})\" + \"\\n\" +result)"
   ]
  }
 ],
 "metadata": {
  "kernelspec": {
   "display_name": "Python 3 (ipykernel)",
   "language": "python",
   "name": "python3"
  },
  "language_info": {
   "codemirror_mode": {
    "name": "ipython",
    "version": 3
   },
   "file_extension": ".py",
   "mimetype": "text/x-python",
   "name": "python",
   "nbconvert_exporter": "python",
   "pygments_lexer": "ipython3",
   "version": "3.8.10"
  }
 },
 "nbformat": 4,
 "nbformat_minor": 5
}
