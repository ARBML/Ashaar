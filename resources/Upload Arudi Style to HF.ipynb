{
 "cells": [
  {
   "cell_type": "code",
   "execution_count": 12,
   "id": "e2e47db6",
   "metadata": {},
   "outputs": [],
   "source": [
    "from datasets import load_dataset\n",
    "from datasets import Dataset\n",
    "import pandas as pd\n",
    "\n",
    "df = pd.read_csv(\"ashaar_arudi.csv\", index_col=0)\n",
    "df\n",
    "dataset = Dataset.from_pandas(df)\n",
    "# dataset = load_dataset(\"csv\", data_files=\"ashaar_arudi.csv\", index=False)"
   ]
  },
  {
   "cell_type": "code",
   "execution_count": 13,
   "id": "4651f929",
   "metadata": {},
   "outputs": [
    {
     "data": {
      "text/plain": [
       "Dataset({\n",
       "    features: ['original_shatr', 'arudi_style', 'tafilaat', 'pattern', '__index_level_0__'],\n",
       "    num_rows: 100\n",
       "})"
      ]
     },
     "execution_count": 13,
     "metadata": {},
     "output_type": "execute_result"
    }
   ],
   "source": [
    "dataset"
   ]
  },
  {
   "cell_type": "code",
   "execution_count": 14,
   "id": "0d8d725b",
   "metadata": {},
   "outputs": [
    {
     "data": {
      "text/html": [
       "<div>\n",
       "<style scoped>\n",
       "    .dataframe tbody tr th:only-of-type {\n",
       "        vertical-align: middle;\n",
       "    }\n",
       "\n",
       "    .dataframe tbody tr th {\n",
       "        vertical-align: top;\n",
       "    }\n",
       "\n",
       "    .dataframe thead th {\n",
       "        text-align: right;\n",
       "    }\n",
       "</style>\n",
       "<table border=\"1\" class=\"dataframe\">\n",
       "  <thead>\n",
       "    <tr style=\"text-align: right;\">\n",
       "      <th></th>\n",
       "      <th>original_shatr</th>\n",
       "      <th>arudi_style</th>\n",
       "      <th>tafilaat</th>\n",
       "      <th>pattern</th>\n",
       "    </tr>\n",
       "  </thead>\n",
       "  <tbody>\n",
       "    <tr>\n",
       "      <th>0</th>\n",
       "      <td>أَرَقٌ عَلى أَرَقٍ وَمِثلِيَ يَأرَقُ</td>\n",
       "      <td>أرقن على أرقن ومثلي يأرقو</td>\n",
       "      <td>متفاعلنْ متفاعلنْ متفاعلنْ</td>\n",
       "      <td>111011011101101110110</td>\n",
       "    </tr>\n",
       "    <tr>\n",
       "      <th>1</th>\n",
       "      <td>وَجَوىً يَزيدُ وَعَبرَةٌ تَتَرَقرَقُ</td>\n",
       "      <td>وجون يزيد وعبرتن تترقرقو</td>\n",
       "      <td>متفاعلنْ متفاعلنْ متفاعلنْ</td>\n",
       "      <td>111011011101101110110</td>\n",
       "    </tr>\n",
       "    <tr>\n",
       "      <th>2</th>\n",
       "      <td>حَيِّ الوُجوهَ المِلاحا</td>\n",
       "      <td>حيي لوجوه لملاحا</td>\n",
       "      <td>مسْتفْع لنْ فاعلاتنْ</td>\n",
       "      <td>10101101011010</td>\n",
       "    </tr>\n",
       "    <tr>\n",
       "      <th>3</th>\n",
       "      <td>وَحَيِّ نُجلَ العُيون</td>\n",
       "      <td>وحيي نجل لعيوني</td>\n",
       "      <td>متفْع لنْ فاعلاتنْ</td>\n",
       "      <td>1101101011010</td>\n",
       "    </tr>\n",
       "    <tr>\n",
       "      <th>4</th>\n",
       "      <td>هَل في الهَوى مِن جُناحٍ</td>\n",
       "      <td>هل فلهوى من جناحن</td>\n",
       "      <td>مسْتفْع لنْ فاعلاتنْ</td>\n",
       "      <td>10101101011010</td>\n",
       "    </tr>\n",
       "    <tr>\n",
       "      <th>...</th>\n",
       "      <td>...</td>\n",
       "      <td>...</td>\n",
       "      <td>...</td>\n",
       "      <td>...</td>\n",
       "    </tr>\n",
       "    <tr>\n",
       "      <th>95</th>\n",
       "      <td>بِاسمِ إِلَه العَدلِ بَينَ النّاس</td>\n",
       "      <td>بسم إلاه لعدل بين نناسي</td>\n",
       "      <td>مسْتعلنْ مسْتفْعلنْ مسْتفْعلْ</td>\n",
       "      <td>1011101010110101010</td>\n",
       "    </tr>\n",
       "    <tr>\n",
       "      <th>96</th>\n",
       "      <td>أَصدَرتُ هَذا الحُكمَ بالقِسطَاسِ</td>\n",
       "      <td>أصدرت هاذلحكم بلقسطاسي</td>\n",
       "      <td>مسْتفْعلنْ مسْتفْعلنْ مسْتفْعلْ</td>\n",
       "      <td>10101101010110101010</td>\n",
       "    </tr>\n",
       "    <tr>\n",
       "      <th>97</th>\n",
       "      <td>في جَلسَةٍ جَهرِيّةِ بِالنّادي</td>\n",
       "      <td>في جلستن جهريتن بننادي</td>\n",
       "      <td>مسْتفْعلنْ مسْتفْعلنْ مسْتفْعلْ</td>\n",
       "      <td>10101101010110101010</td>\n",
       "    </tr>\n",
       "    <tr>\n",
       "      <th>98</th>\n",
       "      <td>لِلفَصلِ في تَنَافُسِ الأَندَادِ</td>\n",
       "      <td>للفصل في تنافس لأندادي</td>\n",
       "      <td>مسْتفْعلنْ متفْعلنْ مسْتفْعلْ</td>\n",
       "      <td>1010110110110101010</td>\n",
       "    </tr>\n",
       "    <tr>\n",
       "      <th>99</th>\n",
       "      <td>حَمد الإِلَهِ وَاجِبٌ لِذَاتِه</td>\n",
       "      <td>حمد لإلاه واجبن لذاتهي</td>\n",
       "      <td>مسْتفْعلنْ متفْعلنْ متفْعلنْ</td>\n",
       "      <td>1010110110110110110</td>\n",
       "    </tr>\n",
       "  </tbody>\n",
       "</table>\n",
       "<p>100 rows × 4 columns</p>\n",
       "</div>"
      ],
      "text/plain": [
       "                          original_shatr                arudi_style  \\\n",
       "0   أَرَقٌ عَلى أَرَقٍ وَمِثلِيَ يَأرَقُ  أرقن على أرقن ومثلي يأرقو   \n",
       "1   وَجَوىً يَزيدُ وَعَبرَةٌ تَتَرَقرَقُ   وجون يزيد وعبرتن تترقرقو   \n",
       "2                حَيِّ الوُجوهَ المِلاحا           حيي لوجوه لملاحا   \n",
       "3                  وَحَيِّ نُجلَ العُيون            وحيي نجل لعيوني   \n",
       "4               هَل في الهَوى مِن جُناحٍ          هل فلهوى من جناحن   \n",
       "..                                   ...                        ...   \n",
       "95     بِاسمِ إِلَه العَدلِ بَينَ النّاس    بسم إلاه لعدل بين نناسي   \n",
       "96     أَصدَرتُ هَذا الحُكمَ بالقِسطَاسِ     أصدرت هاذلحكم بلقسطاسي   \n",
       "97        في جَلسَةٍ جَهرِيّةِ بِالنّادي     في جلستن جهريتن بننادي   \n",
       "98      لِلفَصلِ في تَنَافُسِ الأَندَادِ     للفصل في تنافس لأندادي   \n",
       "99        حَمد الإِلَهِ وَاجِبٌ لِذَاتِه     حمد لإلاه واجبن لذاتهي   \n",
       "\n",
       "                           tafilaat                pattern  \n",
       "0        متفاعلنْ متفاعلنْ متفاعلنْ  111011011101101110110  \n",
       "1        متفاعلنْ متفاعلنْ متفاعلنْ  111011011101101110110  \n",
       "2              مسْتفْع لنْ فاعلاتنْ         10101101011010  \n",
       "3                متفْع لنْ فاعلاتنْ          1101101011010  \n",
       "4              مسْتفْع لنْ فاعلاتنْ         10101101011010  \n",
       "..                              ...                    ...  \n",
       "95    مسْتعلنْ مسْتفْعلنْ مسْتفْعلْ    1011101010110101010  \n",
       "96  مسْتفْعلنْ مسْتفْعلنْ مسْتفْعلْ   10101101010110101010  \n",
       "97  مسْتفْعلنْ مسْتفْعلنْ مسْتفْعلْ   10101101010110101010  \n",
       "98    مسْتفْعلنْ متفْعلنْ مسْتفْعلْ    1010110110110101010  \n",
       "99     مسْتفْعلنْ متفْعلنْ متفْعلنْ    1010110110110110110  \n",
       "\n",
       "[100 rows x 4 columns]"
      ]
     },
     "execution_count": 14,
     "metadata": {},
     "output_type": "execute_result"
    }
   ],
   "source": [
    "df"
   ]
  },
  {
   "cell_type": "code",
   "execution_count": 15,
   "id": "80615b84",
   "metadata": {},
   "outputs": [
    {
     "data": {
      "application/vnd.jupyter.widget-view+json": {
       "model_id": "c5a182996e514852ade6bd181958981f",
       "version_major": 2,
       "version_minor": 0
      },
      "text/plain": [
       "Pushing dataset shards to the dataset hub:   0%|          | 0/1 [00:00<?, ?it/s]"
      ]
     },
     "metadata": {},
     "output_type": "display_data"
    },
    {
     "data": {
      "application/vnd.jupyter.widget-view+json": {
       "model_id": "6b64fc5567ba4c01ac6eb658ab142b0f",
       "version_major": 2,
       "version_minor": 0
      },
      "text/plain": [
       "Creating parquet from Arrow format:   0%|          | 0/1 [00:00<?, ?ba/s]"
      ]
     },
     "metadata": {},
     "output_type": "display_data"
    },
    {
     "data": {
      "application/vnd.jupyter.widget-view+json": {
       "model_id": "7240a641aea14d50a62121022aec633f",
       "version_major": 2,
       "version_minor": 0
      },
      "text/plain": [
       "Upload 1 LFS files:   0%|          | 0/1 [00:00<?, ?it/s]"
      ]
     },
     "metadata": {},
     "output_type": "display_data"
    }
   ],
   "source": [
    "dataset.push_to_hub('arbml/Ashaar_arduiv2')"
   ]
  },
  {
   "cell_type": "code",
   "execution_count": null,
   "id": "2f808e2f",
   "metadata": {},
   "outputs": [],
   "source": []
  }
 ],
 "metadata": {
  "kernelspec": {
   "display_name": "ashaar",
   "language": "python",
   "name": "ashaar"
  },
  "language_info": {
   "codemirror_mode": {
    "name": "ipython",
    "version": 3
   },
   "file_extension": ".py",
   "mimetype": "text/x-python",
   "name": "python",
   "nbconvert_exporter": "python",
   "pygments_lexer": "ipython3",
   "version": "3.10.11"
  }
 },
 "nbformat": 4,
 "nbformat_minor": 5
}
